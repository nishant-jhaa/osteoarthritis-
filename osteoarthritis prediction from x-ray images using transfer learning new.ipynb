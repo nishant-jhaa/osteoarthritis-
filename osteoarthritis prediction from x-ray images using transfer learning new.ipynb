{
 "cells": [
  {
   "cell_type": "code",
   "execution_count": null,
   "id": "edc59dce",
   "metadata": {},
   "outputs": [],
   "source": [
    "import os\n",
    "import matplotlib.pyplot as plt\n",
    "import numpy as np"
   ]
  },
  {
   "cell_type": "code",
   "execution_count": null,
   "id": "307c512b",
   "metadata": {},
   "outputs": [],
   "source": [
    "import cv2\n",
    "import numpy as np\n",
    "import os\n",
    "from imutils import paths"
   ]
  },
  {
   "cell_type": "code",
   "execution_count": null,
   "id": "0311b81a",
   "metadata": {},
   "outputs": [],
   "source": [
    "images = \"C:\\\\Users\\\\nisha\\Desktop\\\\[KNEE OSTEOARTHRITIS]\\\\data 2\\\\Osteoarthritis Dataset\\\\train\""
   ]
  },
  {
   "cell_type": "code",
   "execution_count": null,
   "id": "6f5abb9d",
   "metadata": {},
   "outputs": [
    {
     "name": "stdout",
     "output_type": "stream",
     "text": [
      "['Normal', 'Osteoarthritis']\n"
     ]
    }
   ],
   "source": [
    "folders = os.listdir(images)\n",
    "print(folders)"
   ]
  },
  {
   "cell_type": "code",
   "execution_count": null,
   "id": "be0fd00c",
   "metadata": {},
   "outputs": [],
   "source": [
    "image_data= []\n",
    "labels = []"
   ]
  },
  {
   "cell_type": "code",
   "execution_count": null,
   "id": "82f3fde1",
   "metadata": {},
   "outputs": [],
   "source": [
    "label_dict = {\n",
    "    'Normal':0,\n",
    "    'Osteoarthritis':1\n",
    "}"
   ]
  },
  {
   "cell_type": "code",
   "execution_count": null,
   "id": "7f58b01a",
   "metadata": {},
   "outputs": [],
   "source": [
    "from keras.preprocessing import image\n",
    "\n",
    "for ix in folders:\n",
    "  path = os.path.join(images,ix)\n",
    "  for im in os.listdir(path):\n",
    "    img = image.load_img(os.path.join(path,im),target_size=((512,512)))\n",
    "    img_array = image.img_to_array(img)\n",
    "    image_data.append(img_array)\n",
    "    labels.append(label_dict[ix])"
   ]
  },
  {
   "cell_type": "code",
   "execution_count": null,
   "id": "64000ee9",
   "metadata": {},
   "outputs": [
    {
     "name": "stdout",
     "output_type": "stream",
     "text": [
      "2350 2350\n"
     ]
    }
   ],
   "source": [
    "print(len(image_data),len(labels))"
   ]
  },
  {
   "cell_type": "code",
   "execution_count": null,
   "id": "9f79365d",
   "metadata": {},
   "outputs": [],
   "source": [
    "combined = list(zip(image_data,labels))\n",
    "image_data[:],labels[:] = zip(*combined)"
   ]
  },
  {
   "cell_type": "code",
   "execution_count": null,
   "id": "fed757c6",
   "metadata": {},
   "outputs": [
    {
     "name": "stdout",
     "output_type": "stream",
     "text": [
      "[0, 0, 0, 0, 0, 0, 0, 0, 0, 0, 0, 0, 0, 0, 0, 0, 0, 0, 0, 0, 0, 0, 0, 0, 0, 0, 0, 0, 0, 0, 0, 0, 0, 0, 0, 0, 0, 0, 0, 0, 0, 0, 0, 0, 0, 0, 0, 0, 0, 0, 0, 0, 0, 0, 0, 0, 0, 0, 0, 0, 0, 0, 0, 0, 0, 0, 0, 0, 0, 0, 0, 0, 0, 0, 0, 0, 0, 0, 0, 0, 0, 0, 0, 0, 0, 0, 0, 0, 0, 0, 0, 0, 0, 0, 0, 0, 0, 0, 0, 0, 0, 0, 0, 0, 0, 0, 0, 0, 0, 0, 0, 0, 0, 0, 0, 0, 0, 0, 0, 0, 0, 0, 0, 0, 0, 0, 0, 0, 0, 0, 0, 0, 0, 0, 0, 0, 0, 0, 0, 0, 0, 0, 0, 0, 0, 0, 0, 0, 0, 0, 0, 0, 0, 0, 0, 0, 0, 0, 0, 0, 0, 0, 0, 0, 0, 0, 0, 0, 0, 0, 0, 0, 0, 0, 0, 0, 0, 0, 0, 0, 0, 0, 0, 0, 0, 0, 0, 0, 0, 0, 0, 0, 0, 0, 0, 0, 0, 0, 0, 0, 0, 0, 0, 0, 0, 0, 0, 0, 0, 0, 0, 0, 0, 0, 0, 0, 0, 0, 0, 0, 0, 0, 0, 0, 0, 0, 0, 0, 0, 0, 0, 0, 0, 0, 0, 0, 0, 0, 0, 0, 0, 0, 0, 0, 0, 0, 0, 0, 0, 0, 0, 0, 0, 0, 0, 0, 0, 0, 0, 0, 0, 0, 0, 0, 0, 0, 0, 0, 0, 0, 0, 0, 0, 0, 0, 0, 0, 0, 0, 0, 0, 0, 0, 0, 0, 0, 0, 0, 0, 0, 0, 0, 0, 0, 0, 0, 0, 0, 0, 0, 0, 0, 0, 0, 0, 0, 0, 0, 0, 0, 0, 0, 0, 0, 0, 0, 0, 0, 0, 0, 0, 0, 0, 0, 0, 0, 0, 0, 0, 0, 0, 0, 0, 0, 0, 0, 0, 0, 0, 0, 0, 0, 0, 0, 0, 0, 0, 0, 0, 0, 0, 0, 0, 0, 0, 0, 0, 0, 0, 0, 0, 0, 0, 0, 0, 0, 0, 0, 0, 0, 0, 0, 0, 0, 0, 0, 0, 0, 0, 0, 0, 0, 0, 0, 0, 0, 0, 0, 0, 0, 0, 0, 0, 0, 0, 0, 0, 0, 0, 0, 0, 0, 0, 0, 0, 0, 0, 0, 0, 0, 0, 0, 0, 0, 0, 0, 0, 0, 0, 0, 0, 0, 0, 0, 0, 0, 0, 0, 0, 0, 0, 0, 0, 0, 0, 0, 0, 0, 0, 0, 0, 0, 0, 0, 0, 0, 0, 0, 0, 0, 0, 0, 0, 0, 0, 0, 0, 0, 0, 0, 0, 0, 0, 0, 0, 0, 0, 0, 0, 0, 0, 0, 0, 0, 0, 0, 0, 0, 0, 0, 0, 0, 0, 0, 0, 0, 0, 0, 0, 0, 0, 0, 0, 0, 0, 0, 0, 0, 0, 0, 0, 0, 0, 0, 0, 0, 0, 0, 0, 0, 0, 0, 0, 0, 0, 0, 0, 0, 0, 0, 0, 0, 0, 0, 0, 0, 0, 0, 0, 0, 0, 0, 0, 0, 0, 0, 0, 0, 0, 0, 0, 0, 0, 0, 0, 0, 0, 0, 0, 0, 0, 0, 0, 0, 0, 0, 0, 0, 0, 0, 0, 0, 0, 0, 0, 0, 0, 0, 0, 0, 0, 0, 0, 0, 0, 0, 0, 0, 0, 0, 0, 0, 0, 0, 0, 0, 0, 0, 0, 0, 0, 0, 0, 0, 0, 0, 0, 0, 0, 0, 0, 0, 0, 0, 0, 0, 0, 0, 0, 0, 0, 0, 0, 0, 0, 0, 0, 0, 0, 0, 0, 0, 0, 0, 0, 0, 0, 0, 0, 0, 0, 0, 0, 0, 0, 0, 0, 0, 0, 0, 0, 0, 0, 0, 0, 0, 0, 0, 0, 0, 0, 0, 0, 0, 0, 0, 0, 0, 0, 0, 0, 0, 0, 0, 0, 0, 0, 0, 0, 0, 0, 0, 0, 0, 0, 0, 0, 0, 0, 0, 0, 0, 0, 0, 0, 0, 0, 0, 0, 0, 0, 0, 0, 0, 0, 0, 0, 0, 0, 0, 0, 0, 0, 0, 0, 0, 0, 0, 0, 0, 0, 0, 0, 0, 0, 0, 0, 0, 0, 0, 0, 0, 0, 0, 0, 0, 0, 0, 0, 0, 0, 0, 0, 0, 0, 0, 0, 0, 0, 0, 0, 0, 0, 0, 0, 0, 0, 0, 0, 0, 0, 0, 0, 0, 0, 0, 0, 0, 0, 0, 0, 0, 0, 0, 0, 0, 0, 0, 0, 0, 0, 0, 0, 0, 0, 0, 0, 0, 0, 0, 0, 0, 0, 0, 0, 0, 0, 0, 0, 0, 0, 0, 0, 0, 0, 0, 0, 0, 0, 0, 0, 0, 0, 0, 0, 0, 0, 0, 0, 0, 1, 1, 1, 1, 1, 1, 1, 1, 1, 1, 1, 1, 1, 1, 1, 1, 1, 1, 1, 1, 1, 1, 1, 1, 1, 1, 1, 1, 1, 1, 1, 1, 1, 1, 1, 1, 1, 1, 1, 1, 1, 1, 1, 1, 1, 1, 1, 1, 1, 1, 1, 1, 1, 1, 1, 1, 1, 1, 1, 1, 1, 1, 1, 1, 1, 1, 1, 1, 1, 1, 1, 1, 1, 1, 1, 1, 1, 1, 1, 1, 1, 1, 1, 1, 1, 1, 1, 1, 1, 1, 1, 1, 1, 1, 1, 1, 1, 1, 1, 1, 1, 1, 1, 1, 1, 1, 1, 1, 1, 1, 1, 1, 1, 1, 1, 1, 1, 1, 1, 1, 1, 1, 1, 1, 1, 1, 1, 1, 1, 1, 1, 1, 1, 1, 1, 1, 1, 1, 1, 1, 1, 1, 1, 1, 1, 1, 1, 1, 1, 1, 1, 1, 1, 1, 1, 1, 1, 1, 1, 1, 1, 1, 1, 1, 1, 1, 1, 1, 1, 1, 1, 1, 1, 1, 1, 1, 1, 1, 1, 1, 1, 1, 1, 1, 1, 1, 1, 1, 1, 1, 1, 1, 1, 1, 1, 1, 1, 1, 1, 1, 1, 1, 1, 1, 1, 1, 1, 1, 1, 1, 1, 1, 1, 1, 1, 1, 1, 1, 1, 1, 1, 1, 1, 1, 1, 1, 1, 1, 1, 1, 1, 1, 1, 1, 1, 1, 1, 1, 1, 1, 1, 1, 1, 1, 1, 1, 1, 1, 1, 1, 1, 1, 1, 1, 1, 1, 1, 1, 1, 1, 1, 1, 1, 1, 1, 1, 1, 1, 1, 1, 1, 1, 1, 1, 1, 1, 1, 1, 1, 1, 1, 1, 1, 1, 1, 1, 1, 1, 1, 1, 1, 1, 1, 1, 1, 1, 1, 1, 1, 1, 1, 1, 1, 1, 1, 1, 1, 1, 1, 1, 1, 1, 1, 1, 1, 1, 1, 1, 1, 1, 1, 1, 1, 1, 1, 1, 1, 1, 1, 1, 1, 1, 1, 1, 1, 1, 1, 1, 1, 1, 1, 1, 1, 1, 1, 1, 1, 1, 1, 1, 1, 1, 1, 1, 1, 1, 1, 1, 1, 1, 1, 1, 1, 1, 1, 1, 1, 1, 1, 1, 1, 1, 1, 1, 1, 1, 1, 1, 1, 1, 1, 1, 1, 1, 1, 1, 1, 1, 1, 1, 1, 1, 1, 1, 1, 1, 1, 1, 1, 1, 1, 1, 1, 1, 1, 1, 1, 1, 1, 1, 1, 1, 1, 1, 1, 1, 1, 1, 1, 1, 1, 1, 1, 1, 1, 1, 1, 1, 1, 1, 1, 1, 1, 1, 1, 1, 1, 1, 1, 1, 1, 1, 1, 1, 1, 1, 1, 1, 1, 1, 1, 1, 1, 1, 1, 1, 1, 1, 1, 1, 1, 1, 1, 1, 1, 1, 1, 1, 1, 1, 1, 1, 1, 1, 1, 1, 1, 1, 1, 1, 1, 1, 1, 1, 1, 1, 1, 1, 1, 1, 1, 1, 1, 1, 1, 1, 1, 1, 1, 1, 1, 1, 1, 1, 1, 1, 1, 1, 1, 1, 1, 1, 1, 1, 1, 1, 1, 1, 1, 1, 1, 1, 1, 1, 1, 1, 1, 1, 1, 1, 1, 1, 1, 1, 1, 1, 1, 1, 1, 1, 1, 1, 1, 1, 1, 1, 1, 1, 1, 1, 1, 1, 1, 1, 1, 1, 1, 1, 1, 1, 1, 1, 1, 1, 1, 1, 1, 1, 1, 1, 1, 1, 1, 1, 1, 1, 1, 1, 1, 1, 1, 1, 1, 1, 1, 1, 1, 1, 1, 1, 1, 1, 1, 1, 1, 1, 1, 1, 1, 1, 1, 1, 1, 1, 1, 1, 1, 1, 1, 1, 1, 1, 1, 1, 1, 1, 1, 1, 1, 1, 1, 1, 1, 1, 1, 1, 1, 1, 1, 1, 1, 1, 1, 1, 1, 1, 1, 1, 1, 1, 1, 1, 1, 1, 1, 1, 1, 1, 1, 1, 1, 1, 1, 1, 1, 1, 1, 1, 1, 1, 1, 1, 1, 1, 1, 1, 1, 1, 1, 1, 1, 1, 1, 1, 1, 1, 1, 1, 1, 1, 1, 1, 1, 1, 1, 1, 1, 1, 1, 1, 1, 1, 1, 1, 1, 1, 1, 1, 1, 1, 1, 1, 1, 1, 1, 1, 1, 1, 1, 1, 1, 1, 1, 1, 1, 1, 1, 1, 1, 1, 1, 1, 1, 1, 1, 1, 1, 1, 1, 1, 1, 1, 1, 1, 1, 1, 1, 1, 1, 1, 1, 1, 1, 1, 1, 1, 1, 1, 1, 1, 1, 1, 1, 1, 1, 1, 1, 1, 1, 1, 1, 1, 1, 1, 1, 1, 1, 1, 1, 1, 1, 1, 1, 1, 1, 1, 1, 1, 1, 1, 1, 1, 1, 1, 1, 1, 1, 1, 1, 1, 1, 1, 1, 1, 1, 1, 1, 1, 1, 1, 1, 1, 1, 1, 1, 1, 1, 1, 1, 1, 1, 1, 1, 1, 1, 1, 1, 1, 1, 1, 1, 1, 1, 1, 1, 1, 1, 1, 1, 1, 1, 1, 1, 1, 1, 1, 1, 1, 1, 1, 1, 1, 1, 1, 1, 1, 1, 1, 1, 1, 1, 1, 1, 1, 1, 1, 1, 1, 1, 1, 1, 1, 1, 1, 1, 1, 1, 1, 1, 1, 1, 1, 1, 1, 1, 1, 1, 1, 1, 1, 1, 1, 1, 1, 1, 1, 1, 1, 1, 1, 1, 1, 1, 1, 1, 1, 1, 1, 1, 1, 1, 1, 1, 1, 1, 1, 1, 1, 1, 1, 1, 1, 1, 1, 1, 1, 1, 1, 1, 1, 1, 1, 1, 1, 1, 1, 1, 1, 1, 1, 1, 1, 1, 1, 1, 1, 1, 1, 1, 1, 1, 1, 1, 1, 1, 1, 1, 1, 1, 1, 1, 1, 1, 1, 1, 1, 1, 1, 1, 1, 1, 1, 1, 1, 1, 1, 1, 1, 1, 1, 1, 1, 1, 1, 1, 1, 1, 1, 1, 1, 1, 1, 1, 1, 1, 1, 1, 1, 1, 1, 1, 1, 1, 1, 1, 1, 1, 1, 1, 1, 1, 1, 1, 1, 1, 1, 1, 1, 1, 1, 1, 1, 1, 1, 1, 1, 1, 1, 1, 1, 1, 1, 1, 1, 1, 1, 1, 1, 1, 1, 1, 1, 1, 1, 1, 1, 1, 1, 1, 1, 1, 1, 1, 1, 1, 1, 1, 1, 1, 1, 1, 1, 1, 1, 1, 1, 1, 1, 1, 1, 1, 1, 1, 1, 1, 1, 1, 1, 1, 1, 1, 1, 1, 1, 1, 1, 1, 1, 1, 1, 1, 1, 1, 1, 1, 1, 1, 1, 1, 1, 1, 1, 1, 1, 1, 1, 1, 1, 1, 1, 1, 1, 1, 1, 1, 1, 1, 1, 1, 1, 1, 1, 1, 1, 1, 1, 1, 1, 1, 1, 1, 1, 1, 1, 1, 1, 1, 1, 1, 1, 1, 1, 1, 1, 1, 1, 1, 1, 1, 1, 1, 1, 1, 1, 1, 1, 1, 1, 1, 1, 1, 1, 1, 1, 1, 1, 1, 1, 1, 1, 1, 1, 1, 1, 1, 1, 1, 1, 1, 1, 1, 1, 1, 1, 1, 1, 1, 1, 1, 1, 1, 1, 1, 1, 1, 1, 1, 1, 1, 1, 1, 1, 1, 1, 1, 1, 1, 1, 1, 1, 1, 1, 1, 1, 1, 1, 1, 1, 1, 1, 1, 1, 1, 1, 1, 1, 1, 1, 1, 1, 1, 1, 1, 1, 1, 1, 1, 1, 1, 1, 1, 1, 1, 1, 1, 1, 1, 1, 1, 1, 1, 1, 1, 1, 1, 1, 1, 1, 1, 1, 1, 1, 1, 1, 1, 1, 1, 1, 1, 1, 1, 1, 1, 1, 1, 1, 1, 1, 1, 1, 1, 1, 1, 1, 1, 1, 1, 1, 1, 1, 1, 1, 1, 1, 1, 1, 1, 1, 1, 1, 1, 1, 1, 1, 1, 1, 1, 1, 1, 1, 1, 1, 1, 1, 1, 1, 1, 1, 1, 1, 1, 1, 1, 1, 1, 1, 1, 1, 1, 1, 1, 1, 1, 1, 1, 1, 1, 1, 1, 1, 1, 1, 1, 1, 1, 1, 1, 1, 1, 1, 1, 1, 1, 1, 1, 1, 1, 1, 1, 1, 1, 1, 1, 1, 1, 1, 1, 1, 1, 1, 1, 1, 1, 1, 1, 1, 1, 1, 1, 1, 1, 1, 1, 1, 1, 1, 1, 1, 1, 1, 1, 1, 1, 1, 1, 1, 1, 1, 1, 1, 1, 1, 1, 1, 1, 1, 1, 1, 1, 1, 1, 1, 1, 1, 1, 1, 1, 1, 1, 1, 1, 1, 1, 1, 1, 1, 1, 1, 1, 1, 1, 1, 1, 1, 1, 1, 1, 1, 1, 1, 1, 1, 1, 1, 1, 1, 1, 1, 1, 1, 1, 1, 1, 1, 1, 1, 1, 1, 1, 1, 1, 1, 1, 1, 1, 1, 1, 1, 1, 1, 1, 1, 1, 1, 1, 1, 1, 1, 1, 1, 1, 1, 1, 1, 1, 1, 1, 1, 1, 1, 1, 1, 1, 1, 1, 1, 1, 1, 1, 1, 1, 1, 1, 1, 1, 1, 1, 1, 1, 1, 1, 1, 1, 1, 1, 1, 1, 1, 1, 1, 1, 1, 1, 1, 1, 1, 1, 1, 1, 1, 1, 1, 1, 1, 1, 1, 1, 1, 1, 1, 1, 1, 1, 1, 1, 1, 1, 1, 1, 1]\n"
     ]
    }
   ],
   "source": [
    "print(labels)"
   ]
  },
  {
   "cell_type": "code",
   "execution_count": null,
   "id": "26e27ac5",
   "metadata": {},
   "outputs": [
    {
     "name": "stdout",
     "output_type": "stream",
     "text": [
      "(2350, 512, 512, 3) (2350,)\n"
     ]
    }
   ],
   "source": [
    "x_train = np.array(image_data)\n",
    "y_train = np.array(labels)\n",
    "\n",
    "print(x_train.shape,y_train.shape)"
   ]
  },
  {
   "cell_type": "code",
   "execution_count": null,
   "id": "fabdccb9",
   "metadata": {},
   "outputs": [
    {
     "name": "stdout",
     "output_type": "stream",
     "text": [
      "(2350, 512, 512, 3) (2350, 2)\n"
     ]
    }
   ],
   "source": [
    "from keras.utils import np_utils\n",
    "\n",
    "y_train = np_utils.to_categorical(y_train)\n",
    "print(x_train.shape,y_train.shape)"
   ]
  },
  {
   "cell_type": "code",
   "execution_count": null,
   "id": "d4898b52",
   "metadata": {},
   "outputs": [],
   "source": [
    "from keras.preprocessing.image import ImageDataGenerator"
   ]
  },
  {
   "cell_type": "code",
   "execution_count": null,
   "id": "403f8a6c",
   "metadata": {},
   "outputs": [],
   "source": [
    "# Data Augmentation\n",
    "augment = ImageDataGenerator( \n",
    "                             rotation_range=20,\n",
    "                              width_shift_range=0.01, \n",
    "                              height_shift_range=0.01, \n",
    "                              horizontal_flip=False, \n",
    "                              vertical_flip=False,\n",
    "                            )\n",
    "augment.fit(x_train)"
   ]
  },
  {
   "cell_type": "code",
   "execution_count": null,
   "id": "ba8834ed",
   "metadata": {},
   "outputs": [],
   "source": [
    "from tensorflow.keras.optimizers import Adam\n",
    "from tensorflow.keras.layers import *\n",
    "from tensorflow.keras.models import Sequential\n",
    "from tensorflow.keras.callbacks import ModelCheckpoint\n",
    "from tensorflow.keras.regularizers import l2"
   ]
  },
  {
   "cell_type": "code",
   "execution_count": null,
   "id": "b8e87d34",
   "metadata": {},
   "outputs": [],
   "source": [
    "#CNN MODEL\n",
    "model = Sequential()\n",
    "\n",
    "\n",
    "model.add(Conv2D(filters=16, kernel_size=(3,3),input_shape=(512,512,3), activation='relu',kernel_regularizer=l2(0.01)))\n",
    "model.add(MaxPool2D(pool_size=(2, 2)))\n",
    "\n",
    "model.add(Conv2D(filters=32, kernel_size=(3,3),input_shape=(512,512,3), activation='relu',kernel_regularizer=l2(0.01)))\n",
    "model.add(MaxPool2D(pool_size=(2, 2)))\n",
    "\n",
    "model.add(Conv2D(filters=64, kernel_size=(3,3),input_shape=(512,512,3), activation='relu',kernel_regularizer=l2(0.01)))\n",
    "model.add(MaxPool2D(pool_size=(2, 2)))\n",
    "\n",
    "model.add(Conv2D(filters=64, kernel_size=(3,3),input_shape=(512,512,3), activation='relu',kernel_regularizer=l2(0.01)))\n",
    "model.add(MaxPool2D(pool_size=(2, 2)))\n",
    "\n",
    "model.add(Conv2D(filters=128, kernel_size=(3,3),input_shape=(512,512,3), activation='relu',kernel_regularizer=l2(0.01)))\n",
    "model.add(MaxPool2D(pool_size=(2, 2)))\n",
    "\n",
    "model.add(Conv2D(filters=128, kernel_size=(3,3),input_shape=(512,512,3), activation='relu',kernel_regularizer=l2(0.01)))\n",
    "model.add(MaxPool2D(pool_size=(2, 2)))\n",
    "\n",
    "model.add(Flatten())\n",
    "\n",
    "model.add(Dense(224))\n",
    "model.add(Activation('relu'))\n",
    "\n",
    "model.add(Dropout(0.5))\n",
    "\n",
    "model.add(Dense(2))\n",
    "model.add(Activation('sigmoid'))\n",
    "\n",
    "model.compile(loss='binary_crossentropy',\n",
    "              optimizer='adam',\n",
    "              metrics=['accuracy'])\n",
    "filepath=\"osteoarthritis_detection.hdf5\"\n",
    "checkpoint = ModelCheckpoint(filepath, monitor='val_loss', verbose=2, save_best_only=True, mode='min',patience=3)\n",
    "callbacks_list = [checkpoint]"
   ]
  },
  {
   "cell_type": "code",
   "execution_count": null,
   "id": "7f8c98e6",
   "metadata": {},
   "outputs": [
    {
     "name": "stdout",
     "output_type": "stream",
     "text": [
      "Model: \"sequential_1\"\n",
      "_________________________________________________________________\n",
      "Layer (type)                 Output Shape              Param #   \n",
      "=================================================================\n",
      "conv2d_6 (Conv2D)            (None, 510, 510, 16)      448       \n",
      "_________________________________________________________________\n",
      "max_pooling2d_6 (MaxPooling2 (None, 255, 255, 16)      0         \n",
      "_________________________________________________________________\n",
      "conv2d_7 (Conv2D)            (None, 253, 253, 32)      4640      \n",
      "_________________________________________________________________\n",
      "max_pooling2d_7 (MaxPooling2 (None, 126, 126, 32)      0         \n",
      "_________________________________________________________________\n",
      "conv2d_8 (Conv2D)            (None, 124, 124, 64)      18496     \n",
      "_________________________________________________________________\n",
      "max_pooling2d_8 (MaxPooling2 (None, 62, 62, 64)        0         \n",
      "_________________________________________________________________\n",
      "conv2d_9 (Conv2D)            (None, 60, 60, 64)        36928     \n",
      "_________________________________________________________________\n",
      "max_pooling2d_9 (MaxPooling2 (None, 30, 30, 64)        0         \n",
      "_________________________________________________________________\n",
      "conv2d_10 (Conv2D)           (None, 28, 28, 128)       73856     \n",
      "_________________________________________________________________\n",
      "max_pooling2d_10 (MaxPooling (None, 14, 14, 128)       0         \n",
      "_________________________________________________________________\n",
      "conv2d_11 (Conv2D)           (None, 12, 12, 128)       147584    \n",
      "_________________________________________________________________\n",
      "max_pooling2d_11 (MaxPooling (None, 6, 6, 128)         0         \n",
      "_________________________________________________________________\n",
      "flatten_1 (Flatten)          (None, 4608)              0         \n",
      "_________________________________________________________________\n",
      "dense_2 (Dense)              (None, 224)               1032416   \n",
      "_________________________________________________________________\n",
      "activation_2 (Activation)    (None, 224)               0         \n",
      "_________________________________________________________________\n",
      "dropout_1 (Dropout)          (None, 224)               0         \n",
      "_________________________________________________________________\n",
      "dense_3 (Dense)              (None, 2)                 450       \n",
      "_________________________________________________________________\n",
      "activation_3 (Activation)    (None, 2)                 0         \n",
      "=================================================================\n",
      "Total params: 1,314,818\n",
      "Trainable params: 1,314,818\n",
      "Non-trainable params: 0\n",
      "_________________________________________________________________\n"
     ]
    }
   ],
   "source": [
    "model.summary()"
   ]
  },
  {
   "cell_type": "code",
   "execution_count": null,
   "id": "ac411237",
   "metadata": {},
   "outputs": [
    {
     "name": "stdout",
     "output_type": "stream",
     "text": [
      "Epoch 1/30\n",
      "67/67 [==============================] - ETA: 0s - loss: 3.2540 - accuracy: 0.6090\n",
      "Epoch 00001: val_loss improved from inf to 1.65689, saving model to osteoarthritis_detection.hdf5\n",
      "67/67 [==============================] - 182s 3s/step - loss: 3.2540 - accuracy: 0.6090 - val_loss: 1.6569 - val_accuracy: 1.0000\n",
      "Epoch 2/30\n",
      "67/67 [==============================] - ETA: 0s - loss: 1.7720 - accuracy: 0.6180\n",
      "Epoch 00002: val_loss improved from 1.65689 to 1.25565, saving model to osteoarthritis_detection.hdf5\n",
      "67/67 [==============================] - 192s 3s/step - loss: 1.7720 - accuracy: 0.6180 - val_loss: 1.2556 - val_accuracy: 1.0000\n",
      "Epoch 3/30\n",
      "67/67 [==============================] - ETA: 0s - loss: 1.5789 - accuracy: 0.6109\n",
      "Epoch 00003: val_loss improved from 1.25565 to 1.14441, saving model to osteoarthritis_detection.hdf5\n",
      "67/67 [==============================] - 209s 3s/step - loss: 1.5789 - accuracy: 0.6109 - val_loss: 1.1444 - val_accuracy: 1.0000\n",
      "Epoch 4/30\n",
      "67/67 [==============================] - ETA: 0s - loss: 1.4408 - accuracy: 0.6147\n",
      "Epoch 00004: val_loss improved from 1.14441 to 1.03978, saving model to osteoarthritis_detection.hdf5\n",
      "67/67 [==============================] - 212s 3s/step - loss: 1.4408 - accuracy: 0.6147 - val_loss: 1.0398 - val_accuracy: 1.0000\n",
      "Epoch 5/30\n",
      "67/67 [==============================] - ETA: 0s - loss: 1.3341 - accuracy: 0.6170\n",
      "Epoch 00005: val_loss improved from 1.03978 to 0.90113, saving model to osteoarthritis_detection.hdf5\n",
      "67/67 [==============================] - 218s 3s/step - loss: 1.3341 - accuracy: 0.6170 - val_loss: 0.9011 - val_accuracy: 1.0000\n",
      "Epoch 6/30\n",
      "67/67 [==============================] - ETA: 0s - loss: 1.2558 - accuracy: 0.6170\n",
      "Epoch 00006: val_loss improved from 0.90113 to 0.83071, saving model to osteoarthritis_detection.hdf5\n",
      "67/67 [==============================] - 220s 3s/step - loss: 1.2558 - accuracy: 0.6170 - val_loss: 0.8307 - val_accuracy: 1.0000\n",
      "Epoch 7/30\n",
      "67/67 [==============================] - ETA: 0s - loss: 1.1975 - accuracy: 0.6118\n",
      "Epoch 00007: val_loss improved from 0.83071 to 0.72616, saving model to osteoarthritis_detection.hdf5\n",
      "67/67 [==============================] - 220s 3s/step - loss: 1.1975 - accuracy: 0.6118 - val_loss: 0.7262 - val_accuracy: 1.0000\n",
      "Epoch 8/30\n",
      "67/67 [==============================] - ETA: 0s - loss: 1.1563 - accuracy: 0.6161\n",
      "Epoch 00008: val_loss did not improve from 0.72616\n",
      "67/67 [==============================] - 218s 3s/step - loss: 1.1563 - accuracy: 0.6161 - val_loss: 0.7676 - val_accuracy: 1.0000\n",
      "Epoch 9/30\n",
      "67/67 [==============================] - ETA: 0s - loss: 1.0934 - accuracy: 0.6170\n",
      "Epoch 00009: val_loss improved from 0.72616 to 0.69028, saving model to osteoarthritis_detection.hdf5\n",
      "67/67 [==============================] - 222s 3s/step - loss: 1.0934 - accuracy: 0.6170 - val_loss: 0.6903 - val_accuracy: 1.0000\n",
      "Epoch 10/30\n",
      "67/67 [==============================] - ETA: 0s - loss: 1.0426 - accuracy: 0.6132\n",
      "Epoch 00010: val_loss improved from 0.69028 to 0.63792, saving model to osteoarthritis_detection.hdf5\n",
      "67/67 [==============================] - 232s 3s/step - loss: 1.0426 - accuracy: 0.6132 - val_loss: 0.6379 - val_accuracy: 1.0000\n",
      "Epoch 11/30\n",
      "67/67 [==============================] - ETA: 0s - loss: 1.0074 - accuracy: 0.6147\n",
      "Epoch 00011: val_loss improved from 0.63792 to 0.52291, saving model to osteoarthritis_detection.hdf5\n",
      "67/67 [==============================] - 219s 3s/step - loss: 1.0074 - accuracy: 0.6147 - val_loss: 0.5229 - val_accuracy: 1.0000\n",
      "Epoch 12/30\n",
      "67/67 [==============================] - ETA: 0s - loss: 1.0822 - accuracy: 0.6061\n",
      "Epoch 00012: val_loss did not improve from 0.52291\n",
      "67/67 [==============================] - 216s 3s/step - loss: 1.0822 - accuracy: 0.6061 - val_loss: 0.5643 - val_accuracy: 1.0000\n",
      "Epoch 13/30\n",
      "67/67 [==============================] - ETA: 0s - loss: 1.0064 - accuracy: 0.6104\n",
      "Epoch 00013: val_loss did not improve from 0.52291\n",
      "67/67 [==============================] - 213s 3s/step - loss: 1.0064 - accuracy: 0.6104 - val_loss: 0.6326 - val_accuracy: 0.9787\n",
      "Epoch 14/30\n",
      "67/67 [==============================] - ETA: 0s - loss: 0.9351 - accuracy: 0.6544\n",
      "Epoch 00014: val_loss improved from 0.52291 to 0.50476, saving model to osteoarthritis_detection.hdf5\n",
      "67/67 [==============================] - 217s 3s/step - loss: 0.9351 - accuracy: 0.6544 - val_loss: 0.5048 - val_accuracy: 0.9660\n",
      "Epoch 15/30\n",
      "67/67 [==============================] - ETA: 0s - loss: 0.8753 - accuracy: 0.7050\n",
      "Epoch 00015: val_loss improved from 0.50476 to 0.37177, saving model to osteoarthritis_detection.hdf5\n",
      "67/67 [==============================] - 232s 3s/step - loss: 0.8753 - accuracy: 0.7050 - val_loss: 0.3718 - val_accuracy: 1.0000\n",
      "Epoch 16/30\n",
      "67/67 [==============================] - ETA: 0s - loss: 0.7960 - accuracy: 0.7541\n",
      "Epoch 00016: val_loss improved from 0.37177 to 0.31710, saving model to osteoarthritis_detection.hdf5\n",
      "67/67 [==============================] - 221s 3s/step - loss: 0.7960 - accuracy: 0.7541 - val_loss: 0.3171 - val_accuracy: 1.0000\n",
      "Epoch 17/30\n",
      "67/67 [==============================] - ETA: 0s - loss: 0.7253 - accuracy: 0.8038\n",
      "Epoch 00017: val_loss did not improve from 0.31710\n",
      "67/67 [==============================] - 210s 3s/step - loss: 0.7253 - accuracy: 0.8038 - val_loss: 0.3438 - val_accuracy: 1.0000\n",
      "Epoch 18/30\n",
      "67/67 [==============================] - ETA: 0s - loss: 0.6865 - accuracy: 0.8147\n",
      "Epoch 00018: val_loss improved from 0.31710 to 0.28932, saving model to osteoarthritis_detection.hdf5\n",
      "67/67 [==============================] - 221s 3s/step - loss: 0.6865 - accuracy: 0.8147 - val_loss: 0.2893 - val_accuracy: 1.0000\n",
      "Epoch 19/30\n",
      "67/67 [==============================] - ETA: 0s - loss: 0.6647 - accuracy: 0.8137\n",
      "Epoch 00019: val_loss improved from 0.28932 to 0.26644, saving model to osteoarthritis_detection.hdf5\n",
      "67/67 [==============================] - 220s 3s/step - loss: 0.6647 - accuracy: 0.8137 - val_loss: 0.2664 - val_accuracy: 1.0000\n",
      "Epoch 20/30\n",
      "67/67 [==============================] - ETA: 0s - loss: 0.6216 - accuracy: 0.8241\n",
      "Epoch 00020: val_loss improved from 0.26644 to 0.24797, saving model to osteoarthritis_detection.hdf5\n",
      "67/67 [==============================] - 218s 3s/step - loss: 0.6216 - accuracy: 0.8241 - val_loss: 0.2480 - val_accuracy: 1.0000\n",
      "Epoch 21/30\n",
      "67/67 [==============================] - ETA: 0s - loss: 0.5650 - accuracy: 0.8591\n",
      "Epoch 00021: val_loss improved from 0.24797 to 0.24102, saving model to osteoarthritis_detection.hdf5\n",
      "67/67 [==============================] - 223s 3s/step - loss: 0.5650 - accuracy: 0.8591 - val_loss: 0.2410 - val_accuracy: 1.0000\n",
      "Epoch 22/30\n",
      "67/67 [==============================] - ETA: 0s - loss: 0.5525 - accuracy: 0.8459\n",
      "Epoch 00022: val_loss improved from 0.24102 to 0.22243, saving model to osteoarthritis_detection.hdf5\n",
      "67/67 [==============================] - 209s 3s/step - loss: 0.5525 - accuracy: 0.8459 - val_loss: 0.2224 - val_accuracy: 1.0000\n",
      "Epoch 23/30\n",
      "67/67 [==============================] - ETA: 0s - loss: 0.5254 - accuracy: 0.8600\n",
      "Epoch 00023: val_loss improved from 0.22243 to 0.21035, saving model to osteoarthritis_detection.hdf5\n",
      "67/67 [==============================] - 211s 3s/step - loss: 0.5254 - accuracy: 0.8600 - val_loss: 0.2104 - val_accuracy: 1.0000\n",
      "Epoch 24/30\n",
      "67/67 [==============================] - ETA: 0s - loss: 0.4903 - accuracy: 0.8704\n",
      "Epoch 00024: val_loss improved from 0.21035 to 0.20080, saving model to osteoarthritis_detection.hdf5\n",
      "67/67 [==============================] - 211s 3s/step - loss: 0.4903 - accuracy: 0.8704 - val_loss: 0.2008 - val_accuracy: 1.0000\n",
      "Epoch 25/30\n",
      "67/67 [==============================] - ETA: 0s - loss: 0.4788 - accuracy: 0.8742\n",
      "Epoch 00025: val_loss did not improve from 0.20080\n",
      "67/67 [==============================] - 209s 3s/step - loss: 0.4788 - accuracy: 0.8742 - val_loss: 0.2130 - val_accuracy: 0.9872\n",
      "Epoch 26/30\n",
      "67/67 [==============================] - ETA: 0s - loss: 0.4380 - accuracy: 0.8903\n",
      "Epoch 00026: val_loss did not improve from 0.20080\n",
      "67/67 [==============================] - 209s 3s/step - loss: 0.4380 - accuracy: 0.8903 - val_loss: 0.2066 - val_accuracy: 0.9787\n",
      "Epoch 27/30\n",
      "67/67 [==============================] - ETA: 0s - loss: 0.4456 - accuracy: 0.8851\n",
      "Epoch 00027: val_loss improved from 0.20080 to 0.17206, saving model to osteoarthritis_detection.hdf5\n",
      "67/67 [==============================] - 210s 3s/step - loss: 0.4456 - accuracy: 0.8851 - val_loss: 0.1721 - val_accuracy: 1.0000\n",
      "Epoch 28/30\n",
      "67/67 [==============================] - ETA: 0s - loss: 0.4207 - accuracy: 0.8941\n",
      "Epoch 00028: val_loss did not improve from 0.17206\n",
      "67/67 [==============================] - 208s 3s/step - loss: 0.4207 - accuracy: 0.8941 - val_loss: 0.1922 - val_accuracy: 0.9915\n",
      "Epoch 29/30\n",
      "67/67 [==============================] - ETA: 0s - loss: 0.4081 - accuracy: 0.8903\n",
      "Epoch 00029: val_loss improved from 0.17206 to 0.16872, saving model to osteoarthritis_detection.hdf5\n",
      "67/67 [==============================] - 208s 3s/step - loss: 0.4081 - accuracy: 0.8903 - val_loss: 0.1687 - val_accuracy: 1.0000\n",
      "Epoch 30/30\n",
      "67/67 [==============================] - ETA: 0s - loss: 0.3794 - accuracy: 0.9031\n",
      "Epoch 00030: val_loss improved from 0.16872 to 0.16018, saving model to osteoarthritis_detection.hdf5\n",
      "67/67 [==============================] - 208s 3s/step - loss: 0.3794 - accuracy: 0.9031 - val_loss: 0.1602 - val_accuracy: 1.0000\n",
      "67/67 [==============================] - ETA: 0s - loss: 0.3157 - accuracy: 0.8842\n",
      "Epoch 00055: val_loss improved from 0.05520 to 0.05488, saving model to parkinsons_detection.hdf5\n",
      "67/67 [==============================] - 190s 3s/step - loss: 0.3157 - accuracy: 0.8842 - val_loss: 0.0549 - val_accuracy: 1.0000\n",
      "Epoch 56/75\n",
      "67/67 [==============================] - ETA: 0s - loss: 0.3039 - accuracy: 0.8946\n",
      "Epoch 00056: val_loss did not improve from 0.05488\n",
      "67/67 [==============================] - 194s 3s/step - loss: 0.3039 - accuracy: 0.8946 - val_loss: 0.0612 - val_accuracy: 0.9957\n",
      "Epoch 57/75\n",
      "67/67 [==============================] - ETA: 0s - loss: 0.3040 - accuracy: 0.8884\n",
      "Epoch 00057: val_loss improved from 0.05488 to 0.05371, saving model to parkinsons_detection.hdf5\n",
      "67/67 [==============================] - 192s 3s/step - loss: 0.3040 - accuracy: 0.8884 - val_loss: 0.0537 - val_accuracy: 1.0000\n",
      "Epoch 58/75\n",
      "67/67 [==============================] - ETA: 0s - loss: 0.2999 - accuracy: 0.8898\n",
      "Epoch 00058: val_loss did not improve from 0.05371\n",
      "67/67 [==============================] - 192s 3s/step - loss: 0.2999 - accuracy: 0.8898 - val_loss: 0.0592 - val_accuracy: 0.9957\n",
      "Epoch 59/75\n",
      "67/67 [==============================] - ETA: 0s - loss: 0.2854 - accuracy: 0.9040\n",
      "Epoch 00059: val_loss did not improve from 0.05371\n",
      "67/67 [==============================] - 198s 3s/step - loss: 0.2854 - accuracy: 0.9040 - val_loss: 0.0549 - val_accuracy: 1.0000\n",
      "Epoch 60/75\n",
      "67/67 [==============================] - ETA: 0s - loss: 0.2795 - accuracy: 0.8983\n",
      "Epoch 00060: val_loss did not improve from 0.05371\n",
      "67/67 [==============================] - 198s 3s/step - loss: 0.2795 - accuracy: 0.8983 - val_loss: 0.0586 - val_accuracy: 0.9957\n",
      "Epoch 61/75\n",
      "67/67 [==============================] - ETA: 0s - loss: 0.2702 - accuracy: 0.9064\n",
      "Epoch 00061: val_loss did not improve from 0.05371\n",
      "67/67 [==============================] - 190s 3s/step - loss: 0.2702 - accuracy: 0.9064 - val_loss: 0.0563 - val_accuracy: 0.9957\n",
      "Epoch 62/75\n",
      "67/67 [==============================] - ETA: 0s - loss: 0.2648 - accuracy: 0.9116\n",
      "Epoch 00062: val_loss did not improve from 0.05371\n",
      "67/67 [==============================] - 191s 3s/step - loss: 0.2648 - accuracy: 0.9116 - val_loss: 0.0573 - val_accuracy: 0.9957\n",
      "Epoch 63/75\n",
      "67/67 [==============================] - ETA: 0s - loss: 0.2631 - accuracy: 0.9135\n",
      "Epoch 00063: val_loss did not improve from 0.05371\n",
      "67/67 [==============================] - 191s 3s/step - loss: 0.2631 - accuracy: 0.9135 - val_loss: 0.0544 - val_accuracy: 0.9957\n",
      "Epoch 64/75\n",
      "67/67 [==============================] - ETA: 0s - loss: 0.2629 - accuracy: 0.9078\n",
      "Epoch 00064: val_loss improved from 0.05371 to 0.05330, saving model to parkinsons_detection.hdf5\n",
      "67/67 [==============================] - 193s 3s/step - loss: 0.2629 - accuracy: 0.9078 - val_loss: 0.0533 - val_accuracy: 0.9957\n",
      "Epoch 65/75\n",
      "67/67 [==============================] - ETA: 0s - loss: 0.2357 - accuracy: 0.9168\n",
      "Epoch 00065: val_loss improved from 0.05330 to 0.05235, saving model to parkinsons_detection.hdf5\n",
      "67/67 [==============================] - 190s 3s/step - loss: 0.2357 - accuracy: 0.9168 - val_loss: 0.0523 - val_accuracy: 0.9957\n",
      "Epoch 66/75\n",
      "67/67 [==============================] - ETA: 0s - loss: 0.2413 - accuracy: 0.9177\n",
      "Epoch 00066: val_loss did not improve from 0.05235\n",
      "67/67 [==============================] - 189s 3s/step - loss: 0.2413 - accuracy: 0.9177 - val_loss: 0.0552 - val_accuracy: 0.9957\n",
      "Epoch 67/75\n",
      "67/67 [==============================] - ETA: 0s - loss: 0.2226 - accuracy: 0.9239\n",
      "Epoch 00067: val_loss did not improve from 0.05235\n",
      "67/67 [==============================] - 199s 3s/step - loss: 0.2226 - accuracy: 0.9239 - val_loss: 0.0551 - val_accuracy: 0.9957\n",
      "Epoch 68/75\n",
      "67/67 [==============================] - ETA: 0s - loss: 0.2220 - accuracy: 0.9281\n",
      "Epoch 00068: val_loss did not improve from 0.05235\n",
      "67/67 [==============================] - 195s 3s/step - loss: 0.2220 - accuracy: 0.9281 - val_loss: 0.0609 - val_accuracy: 0.9957\n",
      "Epoch 69/75\n",
      "67/67 [==============================] - ETA: 0s - loss: 0.2462 - accuracy: 0.9031\n",
      "Epoch 00069: val_loss did not improve from 0.05235\n",
      "67/67 [==============================] - 197s 3s/step - loss: 0.2462 - accuracy: 0.9031 - val_loss: 0.0600 - val_accuracy: 0.9915\n",
      "Epoch 70/75\n",
      "67/67 [==============================] - ETA: 0s - loss: 0.2252 - accuracy: 0.9206\n",
      "Epoch 00070: val_loss did not improve from 0.05235\n",
      "67/67 [==============================] - 195s 3s/step - loss: 0.2252 - accuracy: 0.9206 - val_loss: 0.0643 - val_accuracy: 0.9957\n",
      "Epoch 71/75\n",
      "67/67 [==============================] - ETA: 0s - loss: 0.2035 - accuracy: 0.9348\n",
      "Epoch 00071: val_loss did not improve from 0.05235\n",
      "67/67 [==============================] - 190s 3s/step - loss: 0.2035 - accuracy: 0.9348 - val_loss: 0.0536 - val_accuracy: 0.9957\n",
      "Epoch 72/75\n",
      "67/67 [==============================] - ETA: 0s - loss: 0.2119 - accuracy: 0.9253\n",
      "Epoch 00072: val_loss did not improve from 0.05235\n",
      "67/67 [==============================] - 189s 3s/step - loss: 0.2119 - accuracy: 0.9253 - val_loss: 0.0573 - val_accuracy: 0.9957\n",
      "Epoch 73/75\n",
      "67/67 [==============================] - ETA: 0s - loss: 0.2079 - accuracy: 0.9291\n",
      "Epoch 00073: val_loss did not improve from 0.05235\n",
      "67/67 [==============================] - 187s 3s/step - loss: 0.2079 - accuracy: 0.9291 - val_loss: 0.0615 - val_accuracy: 0.9957\n",
      "Epoch 74/75\n",
      "67/67 [==============================] - ETA: 0s - loss: 0.2198 - accuracy: 0.9243\n",
      "Epoch 00074: val_loss did not improve from 0.05235\n",
      "67/67 [==============================] - 189s 3s/step - loss: 0.2198 - accuracy: 0.9243 - val_loss: 0.0691 - val_accuracy: 0.9957\n",
      "Epoch 75/75\n",
      "67/67 [==============================] - ETA: 0s - loss: 0.2163 - accuracy: 0.9258\n",
      "Epoch 00075: val_loss did not improve from 0.05235\n",
      "67/67 [==============================] - 191s 3s/step - loss: 0.2163 - accuracy: 0.9258 - val_loss: 0.0576 - val_accuracy: 0.9957\n"
     ]
    }
   ],
   "source": [
    "hist = model.fit(x_train,y_train,\n",
    "                    shuffle = True,\n",
    "                    batch_size=32,\n",
    "                    epochs = 30,\n",
    "                    validation_split = 0.10,callbacks=callbacks_list)"
   ]
  },
  {
   "cell_type": "code",
   "execution_count": null,
   "id": "f8193d81",
   "metadata": {},
   "outputs": [
    {
     "data": {
      "image/png": "[encoded data removed]",
      "text/plain": [
       "<Figure size 1500x500 with 2 Axes>"
      ]
     },
     "metadata": {},
     "output_type": "display_data"
    }
   ],
   "source": [
    "from matplotlib import pyplot as plt\n",
    "plt.figure(1, figsize = (15, 5))\n",
    "plt.subplot(1,2,1)\n",
    "plt.xlabel(\"Epochs\")\n",
    "plt.ylabel(\"Loss\")\n",
    "plt.plot( hist.history[\"loss\"], label = \"Training Loss\")\n",
    "plt.plot( hist.history[\"val_loss\"], label = \"Validation Loss\")\n",
    "plt.grid(True)\n",
    "plt.legend()\n",
    "plt.savefig(\"Figure 2.jpg\")\n",
    "\n",
    "plt.subplot(1,2,2)\n",
    "plt.xlabel(\"Epochs\")\n",
    "plt.ylabel(\"Accuracy\")\n",
    "plt.plot( hist.history[\"accuracy\"], label = \"Training Accuracy\")\n",
    "plt.plot( hist.history[\"val_accuracy\"], label = \"Validation Accuracy\")\n",
    "plt.grid(True)\n",
    "plt.legend()\n",
    "plt.savefig(\"figure 3.jpg\")"
   ]
  },
  {
   "cell_type": "code",
   "execution_count": null,
   "id": "d69596c0-5dc6-474f-9c67-f8cfe5fa2806",
   "metadata": {},
   "outputs": [
    {
     "name": "stdout",
     "output_type": "stream",
     "text": [
      "74/74 [==============================] - 43s 585ms/step - loss: 0.3286 - accuracy: 0.9353\n"
     ]
    },
    {
     "data": {
      "text/plain": [
       "[0.32858169078826904, 0.9353191256523132]"
      ]
     },
     "execution_count": 22,
     "metadata": {},
     "output_type": "execute_result"
    }
   ],
   "source": [
    "model.evaluate(x_train,y_train)"
   ]
  },
  {
   "cell_type": "code",
   "execution_count": null,
   "id": "c5675db2",
   "metadata": {},
   "outputs": [
    {
     "name": "stdout",
     "output_type": "stream",
     "text": [
      "['Normal', 'Osteoarthritis']\n",
      "(641, 512, 512, 3) (641, 2)\n"
     ]
    }
   ],
   "source": [
    "#TESTING THE cnn MODEL'S PERFORMANCE\n",
    "test_images = \"C:\\\\Users\\\\nisha\\\\Desktop\\\\[KNEE OSTEOARTHRITIS]\\\\data 2\\\\Osteoarthritis Dataset\\\\valid\"\n",
    "\n",
    "test_image_data = []\n",
    "test_labels = []\n",
    "\n",
    "test_folders = os.listdir(test_images)\n",
    "print(test_folders)\n",
    "\n",
    "label_dict = {\n",
    "    'Normal':0,\n",
    "    'Osteoarthritis':1\n",
    "}\n",
    "\n",
    "from keras.preprocessing import image\n",
    "\n",
    "for ix in test_folders:\n",
    "    path = os.path.join(test_images,ix)\n",
    "    for im in os.listdir(path):\n",
    "        img = image.load_img(os.path.join(path,im),target_size = ((512,512)))\n",
    "        img_array = image.img_to_array(img)\n",
    "        test_image_data.append(img_array)\n",
    "        test_labels.append(label_dict[ix])\n",
    "        \n",
    "\n",
    "combined = list(zip(test_image_data,test_labels))\n",
    "test_image_data[:],test_labels[:] = zip(*combined)\n",
    "\n",
    "x_test = np.array(test_image_data)\n",
    "y_test = np.array(test_labels)\n",
    "\n",
    "from keras.utils import np_utils\n",
    "\n",
    "y_test = np_utils.to_categorical(y_test)\n",
    "print(x_test.shape,y_test.shape)"
   ]
  },
  {
   "cell_type": "code",
   "execution_count": null,
   "id": "c1b13ba6",
   "metadata": {},
   "outputs": [
    {
     "name": "stdout",
     "output_type": "stream",
     "text": [
      "21/21 [==============================] - 15s 728ms/step - loss: 0.3970 - accuracy: 0.9095\n"
     ]
    },
    {
     "data": {
      "text/plain": [
       "[0.3970327079296112, 0.9095163941383362]"
      ]
     },
     "execution_count": 24,
     "metadata": {},
     "output_type": "execute_result"
    }
   ],
   "source": [
    "model.evaluate(x_test,y_test)"
   ]
  },
  {
   "cell_type": "code",
   "execution_count": null,
   "id": "bccf4dfe",
   "metadata": {},
   "outputs": [],
   "source": [
    "from sklearn.metrics import classification_report,confusion_matrix"
   ]
  },
  {
   "cell_type": "code",
   "execution_count": null,
   "id": "7de8ceff",
   "metadata": {},
   "outputs": [],
   "source": [
    "predictions = model.predict(x_test, batch_size = 32)\n",
    "pred = np.argmax(predictions, axis=1)"
   ]
  },
  {
   "cell_type": "code",
   "execution_count": null,
   "id": "31d75ed7",
   "metadata": {},
   "outputs": [
    {
     "name": "stdout",
     "output_type": "stream",
     "text": [
      "              precision    recall  f1-score   support\n",
      "\n",
      "           0       0.94      0.78      0.85       210\n",
      "           1       0.90      0.97      0.94       431\n",
      "\n",
      "    accuracy                           0.91       641\n",
      "   macro avg       0.92      0.88      0.89       641\n",
      "weighted avg       0.91      0.91      0.91       641\n",
      "\n"
     ]
    }
   ],
   "source": [
    "print(classification_report(test_labels, pred))"
   ]
  },
  {
   "cell_type": "code",
   "execution_count": null,
   "id": "16397bd4",
   "metadata": {},
   "outputs": [
    {
     "name": "stdout",
     "output_type": "stream",
     "text": [
      "[[163  47]\n",
      " [ 11 420]]\n"
     ]
    }
   ],
   "source": [
    "print(confusion_matrix(test_labels, pred))"
   ]
  },
  {
   "cell_type": "code",
   "execution_count": null,
   "id": "6feb5e89",
   "metadata": {},
   "outputs": [
    {
     "name": "stdout",
     "output_type": "stream",
     "text": [
      "Normalized Confusion Matrix: \n",
      "[[0.78 0.22]\n",
      " [0.03 0.97]]\n"
     ]
    },
    {
     "data": {
      "image/png": "[encoded data removed]",
      "text/plain": [
       "<Figure size 640x480 with 2 Axes>"
      ]
     },
     "metadata": {},
     "output_type": "display_data"
    }
   ],
   "source": [
    "# Normalized Confusion Matrix\n",
    "import numpy as np\n",
    "import seaborn as sns\n",
    "print(\"Normalized Confusion Matrix: \")\n",
    "cm_normalized = np.round(confusion_matrix(test_labels, pred)/np.sum(confusion_matrix(test_labels, pred), axis = 1).reshape(-1, 1),2)\n",
    "print(cm_normalized)\n",
    "sns.heatmap(cm_normalized, annot = True, cmap = \"BuPu\")\n",
    "plt.xlabel(\"Predicted\")\n",
    "plt.ylabel(\"Actual\")\n",
    "plt.show()"
   ]
  },
  {
   "cell_type": "code",
   "execution_count": null,
   "id": "9d28e795",
   "metadata": {},
   "outputs": [
    {
     "name": "stdout",
     "output_type": "stream",
     "text": [
      "Sensitivity :  0.7761904761904762\n"
     ]
    }
   ],
   "source": [
    "sensitivity1 = confusion_matrix(test_labels, pred)[0,0]/(confusion_matrix(test_labels, pred)[0,0]+confusion_matrix(test_labels, pred)[0,1])\n",
    "print('Sensitivity : ', sensitivity1 )"
   ]
  },
  {
   "cell_type": "code",
   "execution_count": null,
   "id": "555a9691",
   "metadata": {},
   "outputs": [
    {
     "name": "stdout",
     "output_type": "stream",
     "text": [
      "Specificity :  0.974477958236659\n"
     ]
    }
   ],
   "source": [
    "specificity1 = confusion_matrix(test_labels, pred)[1,1]/(confusion_matrix(test_labels, pred)[1,0]+confusion_matrix(test_labels, pred)[1,1])\n",
    "print('Specificity : ', specificity1)"
   ]
  },
  {
   "cell_type": "code",
   "execution_count": null,
   "id": "37408397-207e-429c-a6fc-fb528681a79d",
   "metadata": {},
   "outputs": [
    {
     "name": "stdout",
     "output_type": "stream",
     "text": [
      "WARNING:tensorflow:From C:\\Users\\nisha\\AppData\\Local\\Temp\\ipykernel_9768\\3376462102.py:2: Sequential.predict_proba (from tensorflow.python.keras.engine.sequential) is deprecated and will be removed after 2021-01-01.\n",
      "Instructions for updating:\n",
      "Please use `model.predict()` instead.\n"
     ]
    }
   ],
   "source": [
    "# predict probabilities\n",
    "pred_prob1 = model.predict_proba(x_test)"
   ]
  },
  {
   "cell_type": "code",
   "execution_count": 33,
   "id": "6f55ca06",
   "metadata": {},
   "outputs": [
    {
     "name": "stdout",
     "output_type": "stream",
     "text": [
      "Epoch 1/30\n"
     ]
    }
   ],
   "source": [
    "from sklearn.metrics import roc_curve, auc\n",
    "\n",
    "history = model.fit(x_train, y_train, validation_data=(\n",
    "        x_test, y_test), epochs= , batch_size= 32, verbose=1)\n",
    "\n",
    "y_pred = model.predict(x_test).ravel()\n",
    "\n",
    "nn_fpr_keras, nn_tpr_keras, nn_thresholds_keras = roc_curve(y_test, y_pred)\n",
    "auc_keras = auc(nn_fpr_keras, nn_tpr_keras)\n",
    "print(auc_score)\n",
    "plt.plot(nn_fpr_keras, nn_tpr_keras, marker='.', label='Neural Network (auc = %0.3f)' % auc_keras)\n"
   ]
  },
  {
   "cell_type": "code",
   "execution_count": null,
   "id": "4eb9f3a3",
   "metadata": {},
   "outputs": [],
   "source": []
  }
 ],
 "metadata": {
  "kernelspec": {
   "display_name": "",
   "name": ""
  },
  "language_info": {
   "name": ""
  }
 },
 "nbformat": 4,
 "nbformat_minor": 5
}
