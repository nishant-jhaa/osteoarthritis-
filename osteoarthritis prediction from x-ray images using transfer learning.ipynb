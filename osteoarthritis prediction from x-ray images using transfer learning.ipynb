{
 "cells": [
  {
   "cell_type": "code",
   "execution_count": 1,
   "id": "edc59dce",
   "metadata": {},
   "outputs": [],
   "source": [
    "import os\n",
    "import matplotlib.pyplot as plt\n",
    "import numpy as np"
   ]
  },
  {
   "cell_type": "code",
   "execution_count": 1,
   "id": "307c512b",
   "metadata": {},
   "outputs": [],
   "source": [
    "import cv2\n",
    "import numpy as np\n",
    "import os\n",
    "from imutils import paths"
   ]
  },
  {
   "cell_type": "code",
   "execution_count": 4,
   "id": "df094bf9",
   "metadata": {},
   "outputs": [
    {
     "name": "stdout",
     "output_type": "stream",
     "text": [
      "Collecting opencv-python\n",
      "  Downloading opencv_python-4.6.0.66-cp36-abi3-win_amd64.whl (35.6 MB)\n",
      "     -------------------------------------- 35.6/35.6 MB 439.6 kB/s eta 0:00:00\n",
      "Requirement already satisfied: numpy>=1.17.3 in c:\\users\\nisha\\anaconda3\\envs\\tensorflow_env\\lib\\site-packages (from opencv-python) (1.22.3)\n",
      "Installing collected packages: opencv-python\n",
      "Successfully installed opencv-python-4.6.0.66\n",
      "Note: you may need to restart the kernel to use updated packages.\n"
     ]
    }
   ],
   "source": [
    "pip install opencv-python"
   ]
  },
  {
   "cell_type": "code",
   "execution_count": 2,
   "id": "315dcffa",
   "metadata": {},
   "outputs": [
    {
     "name": "stdout",
     "output_type": "stream",
     "text": [
      "Collecting imutils\n",
      "  Downloading imutils-0.5.4.tar.gz (17 kB)\n",
      "  Preparing metadata (setup.py): started\n",
      "  Preparing metadata (setup.py): finished with status 'done'\n",
      "Building wheels for collected packages: imutils\n",
      "  Building wheel for imutils (setup.py): started\n",
      "  Building wheel for imutils (setup.py): finished with status 'done'\n",
      "  Created wheel for imutils: filename=imutils-0.5.4-py3-none-any.whl size=25847 sha256=08aefbe09d10621203c5b4e474c2303b1b9b1408d6e44221bc03e9daaa33ab67\n",
      "  Stored in directory: c:\\users\\nisha\\appdata\\local\\pip\\cache\\wheels\\59\\1b\\52\\0dea905f8278d5514dc4d0be5e251967f8681670cadd3dca89\n",
      "Successfully built imutils\n",
      "Installing collected packages: imutils\n",
      "Successfully installed imutils-0.5.4\n",
      "Note: you may need to restart the kernel to use updated packages.\n"
     ]
    }
   ],
   "source": [
    "pip install imutils"
   ]
  },
  {
   "cell_type": "code",
   "execution_count": 3,
   "id": "0311b81a",
   "metadata": {},
   "outputs": [],
   "source": [
    "images = \"C:\\\\Users\\\\nisha\\Desktop\\\\[KNEE OSTEOARTHRITIS]\\\\data 2\\\\Osteoarthritis Dataset\\\\train\""
   ]
  },
  {
   "cell_type": "code",
   "execution_count": 4,
   "id": "6f5abb9d",
   "metadata": {},
   "outputs": [
    {
     "name": "stdout",
     "output_type": "stream",
     "text": [
      "['Normal', 'Osteoarthritis']\n"
     ]
    }
   ],
   "source": [
    "folders = os.listdir(images)\n",
    "print(folders)"
   ]
  },
  {
   "cell_type": "code",
   "execution_count": 5,
   "id": "be0fd00c",
   "metadata": {},
   "outputs": [],
   "source": [
    "image_data= []\n",
    "labels = []"
   ]
  },
  {
   "cell_type": "code",
   "execution_count": 6,
   "id": "82f3fde1",
   "metadata": {},
   "outputs": [],
   "source": [
    "label_dict = {\n",
    "    'Normal':0,\n",
    "    'Osteoarthritis':1\n",
    "}"
   ]
  },
  {
   "cell_type": "code",
   "execution_count": 7,
   "id": "7f58b01a",
   "metadata": {},
   "outputs": [],
   "source": [
    "from keras.preprocessing import image\n",
    "\n",
    "for ix in folders:\n",
    "  path = os.path.join(images,ix)\n",
    "  for im in os.listdir(path):\n",
    "    img = image.load_img(os.path.join(path,im),target_size=((512,512)))\n",
    "    img_array = image.img_to_array(img)\n",
    "    image_data.append(img_array)\n",
    "    labels.append(label_dict[ix])"
   ]
  },
  {
   "cell_type": "code",
   "execution_count": 8,
   "id": "64000ee9",
   "metadata": {},
   "outputs": [
    {
     "name": "stdout",
     "output_type": "stream",
     "text": [
      "2350 2350\n"
     ]
    }
   ],
   "source": [
    "print(len(image_data),len(labels))"
   ]
  },
  {
   "cell_type": "code",
   "execution_count": 9,
   "id": "9f79365d",
   "metadata": {},
   "outputs": [],
   "source": [
    "combined = list(zip(image_data,labels))\n",
    "image_data[:],labels[:] = zip(*combined)"
   ]
  },
  {
   "cell_type": "code",
   "execution_count": 10,
   "id": "fed757c6",
   "metadata": {},
   "outputs": [
    {
     "name": "stdout",
     "output_type": "stream",
     "text": [
      "[0, 0, 0, 0, 0, 0, 0, 0, 0, 0, 0, 0, 0, 0, 0, 0, 0, 0, 0, 0, 0, 0, 0, 0, 0, 0, 0, 0, 0, 0, 0, 0, 0, 0, 0, 0, 0, 0, 0, 0, 0, 0, 0, 0, 0, 0, 0, 0, 0, 0, 0, 0, 0, 0, 0, 0, 0, 0, 0, 0, 0, 0, 0, 0, 0, 0, 0, 0, 0, 0, 0, 0, 0, 0, 0, 0, 0, 0, 0, 0, 0, 0, 0, 0, 0, 0, 0, 0, 0, 0, 0, 0, 0, 0, 0, 0, 0, 0, 0, 0, 0, 0, 0, 0, 0, 0, 0, 0, 0, 0, 0, 0, 0, 0, 0, 0, 0, 0, 0, 0, 0, 0, 0, 0, 0, 0, 0, 0, 0, 0, 0, 0, 0, 0, 0, 0, 0, 0, 0, 0, 0, 0, 0, 0, 0, 0, 0, 0, 0, 0, 0, 0, 0, 0, 0, 0, 0, 0, 0, 0, 0, 0, 0, 0, 0, 0, 0, 0, 0, 0, 0, 0, 0, 0, 0, 0, 0, 0, 0, 0, 0, 0, 0, 0, 0, 0, 0, 0, 0, 0, 0, 0, 0, 0, 0, 0, 0, 0, 0, 0, 0, 0, 0, 0, 0, 0, 0, 0, 0, 0, 0, 0, 0, 0, 0, 0, 0, 0, 0, 0, 0, 0, 0, 0, 0, 0, 0, 0, 0, 0, 0, 0, 0, 0, 0, 0, 0, 0, 0, 0, 0, 0, 0, 0, 0, 0, 0, 0, 0, 0, 0, 0, 0, 0, 0, 0, 0, 0, 0, 0, 0, 0, 0, 0, 0, 0, 0, 0, 0, 0, 0, 0, 0, 0, 0, 0, 0, 0, 0, 0, 0, 0, 0, 0, 0, 0, 0, 0, 0, 0, 0, 0, 0, 0, 0, 0, 0, 0, 0, 0, 0, 0, 0, 0, 0, 0, 0, 0, 0, 0, 0, 0, 0, 0, 0, 0, 0, 0, 0, 0, 0, 0, 0, 0, 0, 0, 0, 0, 0, 0, 0, 0, 0, 0, 0, 0, 0, 0, 0, 0, 0, 0, 0, 0, 0, 0, 0, 0, 0, 0, 0, 0, 0, 0, 0, 0, 0, 0, 0, 0, 0, 0, 0, 0, 0, 0, 0, 0, 0, 0, 0, 0, 0, 0, 0, 0, 0, 0, 0, 0, 0, 0, 0, 0, 0, 0, 0, 0, 0, 0, 0, 0, 0, 0, 0, 0, 0, 0, 0, 0, 0, 0, 0, 0, 0, 0, 0, 0, 0, 0, 0, 0, 0, 0, 0, 0, 0, 0, 0, 0, 0, 0, 0, 0, 0, 0, 0, 0, 0, 0, 0, 0, 0, 0, 0, 0, 0, 0, 0, 0, 0, 0, 0, 0, 0, 0, 0, 0, 0, 0, 0, 0, 0, 0, 0, 0, 0, 0, 0, 0, 0, 0, 0, 0, 0, 0, 0, 0, 0, 0, 0, 0, 0, 0, 0, 0, 0, 0, 0, 0, 0, 0, 0, 0, 0, 0, 0, 0, 0, 0, 0, 0, 0, 0, 0, 0, 0, 0, 0, 0, 0, 0, 0, 0, 0, 0, 0, 0, 0, 0, 0, 0, 0, 0, 0, 0, 0, 0, 0, 0, 0, 0, 0, 0, 0, 0, 0, 0, 0, 0, 0, 0, 0, 0, 0, 0, 0, 0, 0, 0, 0, 0, 0, 0, 0, 0, 0, 0, 0, 0, 0, 0, 0, 0, 0, 0, 0, 0, 0, 0, 0, 0, 0, 0, 0, 0, 0, 0, 0, 0, 0, 0, 0, 0, 0, 0, 0, 0, 0, 0, 0, 0, 0, 0, 0, 0, 0, 0, 0, 0, 0, 0, 0, 0, 0, 0, 0, 0, 0, 0, 0, 0, 0, 0, 0, 0, 0, 0, 0, 0, 0, 0, 0, 0, 0, 0, 0, 0, 0, 0, 0, 0, 0, 0, 0, 0, 0, 0, 0, 0, 0, 0, 0, 0, 0, 0, 0, 0, 0, 0, 0, 0, 0, 0, 0, 0, 0, 0, 0, 0, 0, 0, 0, 0, 0, 0, 0, 0, 0, 0, 0, 0, 0, 0, 0, 0, 0, 0, 0, 0, 0, 0, 0, 0, 0, 0, 0, 0, 0, 0, 0, 0, 0, 0, 0, 0, 0, 0, 0, 0, 0, 0, 0, 0, 0, 0, 0, 0, 0, 0, 0, 0, 0, 0, 0, 0, 0, 0, 0, 0, 0, 0, 0, 0, 0, 0, 0, 0, 0, 0, 0, 0, 0, 0, 0, 0, 0, 0, 0, 0, 0, 0, 0, 0, 0, 0, 0, 0, 0, 0, 0, 0, 0, 0, 0, 0, 0, 0, 0, 0, 0, 0, 0, 0, 0, 0, 0, 0, 0, 0, 0, 0, 0, 0, 0, 0, 0, 0, 0, 0, 0, 0, 0, 0, 0, 0, 0, 0, 0, 0, 0, 0, 0, 0, 0, 0, 0, 0, 0, 0, 0, 0, 0, 0, 0, 0, 0, 0, 0, 0, 0, 0, 0, 0, 0, 0, 0, 0, 0, 0, 1, 1, 1, 1, 1, 1, 1, 1, 1, 1, 1, 1, 1, 1, 1, 1, 1, 1, 1, 1, 1, 1, 1, 1, 1, 1, 1, 1, 1, 1, 1, 1, 1, 1, 1, 1, 1, 1, 1, 1, 1, 1, 1, 1, 1, 1, 1, 1, 1, 1, 1, 1, 1, 1, 1, 1, 1, 1, 1, 1, 1, 1, 1, 1, 1, 1, 1, 1, 1, 1, 1, 1, 1, 1, 1, 1, 1, 1, 1, 1, 1, 1, 1, 1, 1, 1, 1, 1, 1, 1, 1, 1, 1, 1, 1, 1, 1, 1, 1, 1, 1, 1, 1, 1, 1, 1, 1, 1, 1, 1, 1, 1, 1, 1, 1, 1, 1, 1, 1, 1, 1, 1, 1, 1, 1, 1, 1, 1, 1, 1, 1, 1, 1, 1, 1, 1, 1, 1, 1, 1, 1, 1, 1, 1, 1, 1, 1, 1, 1, 1, 1, 1, 1, 1, 1, 1, 1, 1, 1, 1, 1, 1, 1, 1, 1, 1, 1, 1, 1, 1, 1, 1, 1, 1, 1, 1, 1, 1, 1, 1, 1, 1, 1, 1, 1, 1, 1, 1, 1, 1, 1, 1, 1, 1, 1, 1, 1, 1, 1, 1, 1, 1, 1, 1, 1, 1, 1, 1, 1, 1, 1, 1, 1, 1, 1, 1, 1, 1, 1, 1, 1, 1, 1, 1, 1, 1, 1, 1, 1, 1, 1, 1, 1, 1, 1, 1, 1, 1, 1, 1, 1, 1, 1, 1, 1, 1, 1, 1, 1, 1, 1, 1, 1, 1, 1, 1, 1, 1, 1, 1, 1, 1, 1, 1, 1, 1, 1, 1, 1, 1, 1, 1, 1, 1, 1, 1, 1, 1, 1, 1, 1, 1, 1, 1, 1, 1, 1, 1, 1, 1, 1, 1, 1, 1, 1, 1, 1, 1, 1, 1, 1, 1, 1, 1, 1, 1, 1, 1, 1, 1, 1, 1, 1, 1, 1, 1, 1, 1, 1, 1, 1, 1, 1, 1, 1, 1, 1, 1, 1, 1, 1, 1, 1, 1, 1, 1, 1, 1, 1, 1, 1, 1, 1, 1, 1, 1, 1, 1, 1, 1, 1, 1, 1, 1, 1, 1, 1, 1, 1, 1, 1, 1, 1, 1, 1, 1, 1, 1, 1, 1, 1, 1, 1, 1, 1, 1, 1, 1, 1, 1, 1, 1, 1, 1, 1, 1, 1, 1, 1, 1, 1, 1, 1, 1, 1, 1, 1, 1, 1, 1, 1, 1, 1, 1, 1, 1, 1, 1, 1, 1, 1, 1, 1, 1, 1, 1, 1, 1, 1, 1, 1, 1, 1, 1, 1, 1, 1, 1, 1, 1, 1, 1, 1, 1, 1, 1, 1, 1, 1, 1, 1, 1, 1, 1, 1, 1, 1, 1, 1, 1, 1, 1, 1, 1, 1, 1, 1, 1, 1, 1, 1, 1, 1, 1, 1, 1, 1, 1, 1, 1, 1, 1, 1, 1, 1, 1, 1, 1, 1, 1, 1, 1, 1, 1, 1, 1, 1, 1, 1, 1, 1, 1, 1, 1, 1, 1, 1, 1, 1, 1, 1, 1, 1, 1, 1, 1, 1, 1, 1, 1, 1, 1, 1, 1, 1, 1, 1, 1, 1, 1, 1, 1, 1, 1, 1, 1, 1, 1, 1, 1, 1, 1, 1, 1, 1, 1, 1, 1, 1, 1, 1, 1, 1, 1, 1, 1, 1, 1, 1, 1, 1, 1, 1, 1, 1, 1, 1, 1, 1, 1, 1, 1, 1, 1, 1, 1, 1, 1, 1, 1, 1, 1, 1, 1, 1, 1, 1, 1, 1, 1, 1, 1, 1, 1, 1, 1, 1, 1, 1, 1, 1, 1, 1, 1, 1, 1, 1, 1, 1, 1, 1, 1, 1, 1, 1, 1, 1, 1, 1, 1, 1, 1, 1, 1, 1, 1, 1, 1, 1, 1, 1, 1, 1, 1, 1, 1, 1, 1, 1, 1, 1, 1, 1, 1, 1, 1, 1, 1, 1, 1, 1, 1, 1, 1, 1, 1, 1, 1, 1, 1, 1, 1, 1, 1, 1, 1, 1, 1, 1, 1, 1, 1, 1, 1, 1, 1, 1, 1, 1, 1, 1, 1, 1, 1, 1, 1, 1, 1, 1, 1, 1, 1, 1, 1, 1, 1, 1, 1, 1, 1, 1, 1, 1, 1, 1, 1, 1, 1, 1, 1, 1, 1, 1, 1, 1, 1, 1, 1, 1, 1, 1, 1, 1, 1, 1, 1, 1, 1, 1, 1, 1, 1, 1, 1, 1, 1, 1, 1, 1, 1, 1, 1, 1, 1, 1, 1, 1, 1, 1, 1, 1, 1, 1, 1, 1, 1, 1, 1, 1, 1, 1, 1, 1, 1, 1, 1, 1, 1, 1, 1, 1, 1, 1, 1, 1, 1, 1, 1, 1, 1, 1, 1, 1, 1, 1, 1, 1, 1, 1, 1, 1, 1, 1, 1, 1, 1, 1, 1, 1, 1, 1, 1, 1, 1, 1, 1, 1, 1, 1, 1, 1, 1, 1, 1, 1, 1, 1, 1, 1, 1, 1, 1, 1, 1, 1, 1, 1, 1, 1, 1, 1, 1, 1, 1, 1, 1, 1, 1, 1, 1, 1, 1, 1, 1, 1, 1, 1, 1, 1, 1, 1, 1, 1, 1, 1, 1, 1, 1, 1, 1, 1, 1, 1, 1, 1, 1, 1, 1, 1, 1, 1, 1, 1, 1, 1, 1, 1, 1, 1, 1, 1, 1, 1, 1, 1, 1, 1, 1, 1, 1, 1, 1, 1, 1, 1, 1, 1, 1, 1, 1, 1, 1, 1, 1, 1, 1, 1, 1, 1, 1, 1, 1, 1, 1, 1, 1, 1, 1, 1, 1, 1, 1, 1, 1, 1, 1, 1, 1, 1, 1, 1, 1, 1, 1, 1, 1, 1, 1, 1, 1, 1, 1, 1, 1, 1, 1, 1, 1, 1, 1, 1, 1, 1, 1, 1, 1, 1, 1, 1, 1, 1, 1, 1, 1, 1, 1, 1, 1, 1, 1, 1, 1, 1, 1, 1, 1, 1, 1, 1, 1, 1, 1, 1, 1, 1, 1, 1, 1, 1, 1, 1, 1, 1, 1, 1, 1, 1, 1, 1, 1, 1, 1, 1, 1, 1, 1, 1, 1, 1, 1, 1, 1, 1, 1, 1, 1, 1, 1, 1, 1, 1, 1, 1, 1, 1, 1, 1, 1, 1, 1, 1, 1, 1, 1, 1, 1, 1, 1, 1, 1, 1, 1, 1, 1, 1, 1, 1, 1, 1, 1, 1, 1, 1, 1, 1, 1, 1, 1, 1, 1, 1, 1, 1, 1, 1, 1, 1, 1, 1, 1, 1, 1, 1, 1, 1, 1, 1, 1, 1, 1, 1, 1, 1, 1, 1, 1, 1, 1, 1, 1, 1, 1, 1, 1, 1, 1, 1, 1, 1, 1, 1, 1, 1, 1, 1, 1, 1, 1, 1, 1, 1, 1, 1, 1, 1, 1, 1, 1, 1, 1, 1, 1, 1, 1, 1, 1, 1, 1, 1, 1, 1, 1, 1, 1, 1, 1, 1, 1, 1, 1, 1, 1, 1, 1, 1, 1, 1, 1, 1, 1, 1, 1, 1, 1, 1, 1, 1, 1, 1, 1, 1, 1, 1, 1, 1, 1, 1, 1, 1, 1, 1, 1, 1, 1, 1, 1, 1, 1, 1, 1, 1, 1, 1, 1, 1, 1, 1, 1, 1, 1, 1, 1, 1, 1, 1, 1, 1, 1, 1, 1, 1, 1, 1, 1, 1, 1, 1, 1, 1, 1, 1, 1, 1, 1, 1, 1, 1, 1, 1, 1, 1, 1, 1, 1, 1, 1, 1, 1, 1, 1, 1, 1, 1, 1, 1, 1, 1, 1, 1, 1, 1, 1, 1, 1, 1, 1, 1, 1, 1, 1, 1, 1, 1, 1, 1, 1, 1, 1, 1, 1, 1, 1, 1, 1, 1, 1, 1, 1, 1, 1, 1, 1, 1, 1, 1, 1, 1, 1, 1, 1, 1, 1, 1, 1, 1, 1, 1, 1, 1, 1, 1, 1, 1, 1, 1, 1, 1, 1, 1, 1, 1, 1, 1, 1, 1, 1, 1, 1, 1, 1, 1, 1, 1, 1, 1, 1, 1, 1, 1, 1, 1, 1, 1, 1, 1, 1, 1, 1, 1, 1, 1, 1, 1, 1, 1, 1, 1, 1, 1, 1, 1, 1, 1, 1, 1, 1, 1, 1, 1, 1, 1, 1, 1, 1, 1, 1, 1, 1, 1, 1, 1, 1, 1, 1, 1, 1, 1, 1, 1, 1, 1, 1, 1, 1, 1, 1, 1, 1, 1, 1, 1, 1, 1, 1, 1, 1, 1, 1, 1, 1, 1, 1, 1, 1, 1, 1, 1, 1, 1, 1, 1, 1, 1, 1, 1, 1, 1, 1, 1, 1, 1, 1, 1, 1, 1, 1, 1, 1, 1, 1, 1, 1, 1, 1, 1, 1, 1, 1, 1, 1, 1, 1, 1, 1, 1, 1, 1, 1, 1, 1, 1, 1, 1, 1, 1, 1, 1, 1, 1, 1, 1, 1, 1, 1, 1, 1, 1, 1, 1, 1, 1, 1, 1, 1, 1, 1, 1, 1, 1, 1, 1, 1, 1, 1, 1, 1, 1, 1, 1, 1, 1, 1, 1, 1, 1, 1, 1, 1, 1, 1, 1, 1, 1, 1, 1, 1, 1, 1, 1, 1, 1, 1, 1, 1, 1, 1, 1, 1, 1, 1, 1, 1, 1, 1, 1, 1, 1, 1, 1, 1, 1, 1, 1, 1, 1, 1, 1, 1, 1, 1, 1, 1, 1, 1, 1, 1, 1, 1, 1, 1, 1, 1, 1, 1, 1, 1, 1, 1, 1, 1]\n"
     ]
    }
   ],
   "source": [
    "print(labels)"
   ]
  },
  {
   "cell_type": "code",
   "execution_count": 11,
   "id": "26e27ac5",
   "metadata": {},
   "outputs": [
    {
     "name": "stdout",
     "output_type": "stream",
     "text": [
      "(2350, 512, 512, 3) (2350,)\n"
     ]
    }
   ],
   "source": [
    "x_train = np.array(image_data)\n",
    "y_train = np.array(labels)\n",
    "\n",
    "print(x_train.shape,y_train.shape)"
   ]
  },
  {
   "cell_type": "code",
   "execution_count": 12,
   "id": "fabdccb9",
   "metadata": {},
   "outputs": [
    {
     "name": "stdout",
     "output_type": "stream",
     "text": [
      "(2350, 512, 512, 3) (2350, 2)\n"
     ]
    }
   ],
   "source": [
    "from keras.utils import np_utils\n",
    "\n",
    "y_train = np_utils.to_categorical(y_train)\n",
    "print(x_train.shape,y_train.shape)"
   ]
  },
  {
   "cell_type": "code",
   "execution_count": 13,
   "id": "d4898b52",
   "metadata": {},
   "outputs": [],
   "source": [
    "from keras.preprocessing.image import ImageDataGenerator"
   ]
  },
  {
   "cell_type": "code",
   "execution_count": 14,
   "id": "403f8a6c",
   "metadata": {},
   "outputs": [],
   "source": [
    "# Data Augmentation\n",
    "augment = ImageDataGenerator( \n",
    "                             rotation_range=20,\n",
    "                              width_shift_range=0.01, \n",
    "                              height_shift_range=0.01, \n",
    "                              horizontal_flip=False, \n",
    "                              vertical_flip=False,\n",
    "                            )\n",
    "augment.fit(x_train)"
   ]
  },
  {
   "cell_type": "code",
   "execution_count": 15,
   "id": "ba8834ed",
   "metadata": {},
   "outputs": [],
   "source": [
    "from tensorflow.keras.optimizers import Adam\n",
    "from tensorflow.keras.layers import *\n",
    "from tensorflow.keras.models import Sequential\n",
    "from tensorflow.keras.callbacks import ModelCheckpoint\n",
    "from tensorflow.keras.regularizers import l2"
   ]
  },
  {
   "cell_type": "code",
   "execution_count": 16,
   "id": "b8e87d34",
   "metadata": {},
   "outputs": [],
   "source": [
    "#CNN MODEL\n",
    "model = Sequential()\n",
    "\n",
    "\n",
    "model.add(Conv2D(filters=16, kernel_size=(3,3),input_shape=(512,512,3), activation='relu',kernel_regularizer=l2(0.01)))\n",
    "model.add(MaxPool2D(pool_size=(2, 2)))\n",
    "\n",
    "model.add(Conv2D(filters=32, kernel_size=(3,3),input_shape=(512,512,3), activation='relu',kernel_regularizer=l2(0.01)))\n",
    "model.add(MaxPool2D(pool_size=(2, 2)))\n",
    "\n",
    "model.add(Conv2D(filters=64, kernel_size=(3,3),input_shape=(512,512,3), activation='relu',kernel_regularizer=l2(0.01)))\n",
    "model.add(MaxPool2D(pool_size=(2, 2)))\n",
    "\n",
    "model.add(Conv2D(filters=64, kernel_size=(3,3),input_shape=(512,512,3), activation='relu',kernel_regularizer=l2(0.01)))\n",
    "model.add(MaxPool2D(pool_size=(2, 2)))\n",
    "\n",
    "model.add(Conv2D(filters=128, kernel_size=(3,3),input_shape=(512,512,3), activation='relu',kernel_regularizer=l2(0.01)))\n",
    "model.add(MaxPool2D(pool_size=(2, 2)))\n",
    "\n",
    "model.add(Conv2D(filters=128, kernel_size=(3,3),input_shape=(512,512,3), activation='relu',kernel_regularizer=l2(0.01)))\n",
    "model.add(MaxPool2D(pool_size=(2, 2)))\n",
    "\n",
    "model.add(Flatten())\n",
    "\n",
    "model.add(Dense(224))\n",
    "model.add(Activation('relu'))\n",
    "\n",
    "model.add(Dropout(0.5))\n",
    "\n",
    "model.add(Dense(2))\n",
    "model.add(Activation('sigmoid'))\n",
    "\n",
    "model.compile(loss='binary_crossentropy',\n",
    "              optimizer='adam',\n",
    "              metrics=['accuracy'])\n",
    "filepath=\"parkinsons_detection.hdf5\"\n",
    "checkpoint = ModelCheckpoint(filepath, monitor='val_loss', verbose=2, save_best_only=True, mode='min',patience=3)\n",
    "callbacks_list = [checkpoint]"
   ]
  },
  {
   "cell_type": "code",
   "execution_count": 17,
   "id": "7f8c98e6",
   "metadata": {},
   "outputs": [
    {
     "name": "stdout",
     "output_type": "stream",
     "text": [
      "Model: \"sequential\"\n",
      "_________________________________________________________________\n",
      "Layer (type)                 Output Shape              Param #   \n",
      "=================================================================\n",
      "conv2d (Conv2D)              (None, 510, 510, 16)      448       \n",
      "_________________________________________________________________\n",
      "max_pooling2d (MaxPooling2D) (None, 255, 255, 16)      0         \n",
      "_________________________________________________________________\n",
      "conv2d_1 (Conv2D)            (None, 253, 253, 32)      4640      \n",
      "_________________________________________________________________\n",
      "max_pooling2d_1 (MaxPooling2 (None, 126, 126, 32)      0         \n",
      "_________________________________________________________________\n",
      "conv2d_2 (Conv2D)            (None, 124, 124, 64)      18496     \n",
      "_________________________________________________________________\n",
      "max_pooling2d_2 (MaxPooling2 (None, 62, 62, 64)        0         \n",
      "_________________________________________________________________\n",
      "conv2d_3 (Conv2D)            (None, 60, 60, 64)        36928     \n",
      "_________________________________________________________________\n",
      "max_pooling2d_3 (MaxPooling2 (None, 30, 30, 64)        0         \n",
      "_________________________________________________________________\n",
      "conv2d_4 (Conv2D)            (None, 28, 28, 128)       73856     \n",
      "_________________________________________________________________\n",
      "max_pooling2d_4 (MaxPooling2 (None, 14, 14, 128)       0         \n",
      "_________________________________________________________________\n",
      "conv2d_5 (Conv2D)            (None, 12, 12, 128)       147584    \n",
      "_________________________________________________________________\n",
      "max_pooling2d_5 (MaxPooling2 (None, 6, 6, 128)         0         \n",
      "_________________________________________________________________\n",
      "flatten (Flatten)            (None, 4608)              0         \n",
      "_________________________________________________________________\n",
      "dense (Dense)                (None, 224)               1032416   \n",
      "_________________________________________________________________\n",
      "activation (Activation)      (None, 224)               0         \n",
      "_________________________________________________________________\n",
      "dropout (Dropout)            (None, 224)               0         \n",
      "_________________________________________________________________\n",
      "dense_1 (Dense)              (None, 2)                 450       \n",
      "_________________________________________________________________\n",
      "activation_1 (Activation)    (None, 2)                 0         \n",
      "=================================================================\n",
      "Total params: 1,314,818\n",
      "Trainable params: 1,314,818\n",
      "Non-trainable params: 0\n",
      "_________________________________________________________________\n"
     ]
    }
   ],
   "source": [
    "model.summary()"
   ]
  },
  {
   "cell_type": "code",
   "execution_count": 18,
   "id": "ac411237",
   "metadata": {},
   "outputs": [
    {
     "name": "stdout",
     "output_type": "stream",
     "text": [
      "Epoch 1/75\n",
      "67/67 [==============================] - ETA: 0s - loss: 3.1985 - accuracy: 0.5929\n",
      "Epoch 00001: val_loss improved from inf to 1.74572, saving model to parkinsons_detection.hdf5\n",
      "67/67 [==============================] - 161s 2s/step - loss: 3.1985 - accuracy: 0.5929 - val_loss: 1.7457 - val_accuracy: 1.0000\n",
      "Epoch 2/75\n",
      "67/67 [==============================] - ETA: 0s - loss: 1.8850 - accuracy: 0.6175\n",
      "Epoch 00002: val_loss improved from 1.74572 to 1.27209, saving model to parkinsons_detection.hdf5\n",
      "67/67 [==============================] - 177s 3s/step - loss: 1.8850 - accuracy: 0.6175 - val_loss: 1.2721 - val_accuracy: 1.0000\n",
      "Epoch 3/75\n",
      "67/67 [==============================] - ETA: 0s - loss: 1.7161 - accuracy: 0.6118\n",
      "Epoch 00003: val_loss did not improve from 1.27209\n",
      "67/67 [==============================] - 186s 3s/step - loss: 1.7161 - accuracy: 0.6118 - val_loss: 1.3552 - val_accuracy: 1.0000\n",
      "Epoch 4/75\n",
      "67/67 [==============================] - ETA: 0s - loss: 1.5724 - accuracy: 0.6175\n",
      "Epoch 00004: val_loss improved from 1.27209 to 1.12254, saving model to parkinsons_detection.hdf5\n",
      "67/67 [==============================] - 176s 3s/step - loss: 1.5724 - accuracy: 0.6175 - val_loss: 1.1225 - val_accuracy: 1.0000\n",
      "Epoch 5/75\n",
      "67/67 [==============================] - ETA: 0s - loss: 1.4689 - accuracy: 0.6170\n",
      "Epoch 00005: val_loss improved from 1.12254 to 1.07680, saving model to parkinsons_detection.hdf5\n",
      "67/67 [==============================] - 180s 3s/step - loss: 1.4689 - accuracy: 0.6170 - val_loss: 1.0768 - val_accuracy: 1.0000\n",
      "Epoch 6/75\n",
      "67/67 [==============================] - ETA: 0s - loss: 1.3752 - accuracy: 0.6170\n",
      "Epoch 00006: val_loss improved from 1.07680 to 0.93181, saving model to parkinsons_detection.hdf5\n",
      "67/67 [==============================] - 185s 3s/step - loss: 1.3752 - accuracy: 0.6170 - val_loss: 0.9318 - val_accuracy: 1.0000\n",
      "Epoch 7/75\n",
      "67/67 [==============================] - ETA: 0s - loss: 1.2986 - accuracy: 0.6170\n",
      "Epoch 00007: val_loss improved from 0.93181 to 0.88785, saving model to parkinsons_detection.hdf5\n",
      "67/67 [==============================] - 187s 3s/step - loss: 1.2986 - accuracy: 0.6170 - val_loss: 0.8879 - val_accuracy: 1.0000\n",
      "Epoch 8/75\n",
      "67/67 [==============================] - ETA: 0s - loss: 1.2336 - accuracy: 0.6170\n",
      "Epoch 00008: val_loss improved from 0.88785 to 0.78796, saving model to parkinsons_detection.hdf5\n",
      "67/67 [==============================] - 202s 3s/step - loss: 1.2336 - accuracy: 0.6170 - val_loss: 0.7880 - val_accuracy: 1.0000\n",
      "Epoch 9/75\n",
      "67/67 [==============================] - ETA: 0s - loss: 1.1788 - accuracy: 0.6170\n",
      "Epoch 00009: val_loss improved from 0.78796 to 0.75151, saving model to parkinsons_detection.hdf5\n",
      "67/67 [==============================] - 210s 3s/step - loss: 1.1788 - accuracy: 0.6170 - val_loss: 0.7515 - val_accuracy: 1.0000\n",
      "Epoch 10/75\n",
      "67/67 [==============================] - ETA: 0s - loss: 1.1526 - accuracy: 0.6161\n",
      "Epoch 00010: val_loss did not improve from 0.75151\n",
      "67/67 [==============================] - 202s 3s/step - loss: 1.1526 - accuracy: 0.6161 - val_loss: 0.8852 - val_accuracy: 0.9404\n",
      "Epoch 11/75\n",
      "67/67 [==============================] - ETA: 0s - loss: 1.1407 - accuracy: 0.6170\n",
      "Epoch 00011: val_loss improved from 0.75151 to 0.71796, saving model to parkinsons_detection.hdf5\n",
      "67/67 [==============================] - 200s 3s/step - loss: 1.1407 - accuracy: 0.6170 - val_loss: 0.7180 - val_accuracy: 1.0000\n",
      "Epoch 12/75\n",
      "67/67 [==============================] - ETA: 0s - loss: 1.0956 - accuracy: 0.6165\n",
      "Epoch 00012: val_loss improved from 0.71796 to 0.61657, saving model to parkinsons_detection.hdf5\n",
      "67/67 [==============================] - 203s 3s/step - loss: 1.0956 - accuracy: 0.6165 - val_loss: 0.6166 - val_accuracy: 1.0000\n",
      "Epoch 13/75\n",
      "67/67 [==============================] - ETA: 0s - loss: 1.0396 - accuracy: 0.6165\n",
      "Epoch 00013: val_loss improved from 0.61657 to 0.60312, saving model to parkinsons_detection.hdf5\n",
      "67/67 [==============================] - 197s 3s/step - loss: 1.0396 - accuracy: 0.6165 - val_loss: 0.6031 - val_accuracy: 1.0000\n",
      "Epoch 14/75\n",
      "67/67 [==============================] - ETA: 0s - loss: 1.0005 - accuracy: 0.6170\n",
      "Epoch 00014: val_loss improved from 0.60312 to 0.55228, saving model to parkinsons_detection.hdf5\n",
      "67/67 [==============================] - 197s 3s/step - loss: 1.0005 - accuracy: 0.6170 - val_loss: 0.5523 - val_accuracy: 0.9957\n",
      "Epoch 15/75\n",
      "67/67 [==============================] - ETA: 0s - loss: 0.9736 - accuracy: 0.6165\n",
      "Epoch 00015: val_loss did not improve from 0.55228\n",
      "67/67 [==============================] - 188s 3s/step - loss: 0.9736 - accuracy: 0.6165 - val_loss: 0.5774 - val_accuracy: 0.9957\n",
      "Epoch 16/75\n",
      "67/67 [==============================] - ETA: 0s - loss: 0.9563 - accuracy: 0.6165\n",
      "Epoch 00016: val_loss did not improve from 0.55228\n",
      "67/67 [==============================] - 189s 3s/step - loss: 0.9563 - accuracy: 0.6165 - val_loss: 0.6815 - val_accuracy: 1.0000\n",
      "Epoch 17/75\n",
      "67/67 [==============================] - ETA: 0s - loss: 0.9556 - accuracy: 0.6170\n",
      "Epoch 00017: val_loss did not improve from 0.55228\n",
      "67/67 [==============================] - 187s 3s/step - loss: 0.9556 - accuracy: 0.6170 - val_loss: 0.6914 - val_accuracy: 1.0000\n",
      "Epoch 18/75\n",
      "67/67 [==============================] - ETA: 0s - loss: 0.9216 - accuracy: 0.6156\n",
      "Epoch 00018: val_loss improved from 0.55228 to 0.54804, saving model to parkinsons_detection.hdf5\n",
      "67/67 [==============================] - 208s 3s/step - loss: 0.9216 - accuracy: 0.6156 - val_loss: 0.5480 - val_accuracy: 1.0000\n",
      "Epoch 19/75\n",
      "67/67 [==============================] - ETA: 0s - loss: 0.8940 - accuracy: 0.6175\n",
      "Epoch 00019: val_loss improved from 0.54804 to 0.53107, saving model to parkinsons_detection.hdf5\n",
      "67/67 [==============================] - 207s 3s/step - loss: 0.8940 - accuracy: 0.6175 - val_loss: 0.5311 - val_accuracy: 1.0000\n",
      "Epoch 20/75\n",
      "67/67 [==============================] - ETA: 0s - loss: 0.8623 - accuracy: 0.6175\n",
      "Epoch 00020: val_loss improved from 0.53107 to 0.50841, saving model to parkinsons_detection.hdf5\n",
      "67/67 [==============================] - 207s 3s/step - loss: 0.8623 - accuracy: 0.6175 - val_loss: 0.5084 - val_accuracy: 1.0000\n",
      "Epoch 21/75\n",
      "67/67 [==============================] - ETA: 0s - loss: 0.8406 - accuracy: 0.6170\n",
      "Epoch 00021: val_loss improved from 0.50841 to 0.39715, saving model to parkinsons_detection.hdf5\n",
      "67/67 [==============================] - 210s 3s/step - loss: 0.8406 - accuracy: 0.6170 - val_loss: 0.3971 - val_accuracy: 0.9957\n",
      "Epoch 22/75\n",
      "67/67 [==============================] - ETA: 0s - loss: 0.8247 - accuracy: 0.6175\n",
      "Epoch 00022: val_loss did not improve from 0.39715\n",
      "67/67 [==============================] - 202s 3s/step - loss: 0.8247 - accuracy: 0.6175 - val_loss: 0.4374 - val_accuracy: 1.0000\n",
      "Epoch 23/75\n",
      "67/67 [==============================] - ETA: 0s - loss: 0.7991 - accuracy: 0.6151\n",
      "Epoch 00023: val_loss improved from 0.39715 to 0.34308, saving model to parkinsons_detection.hdf5\n",
      "67/67 [==============================] - 204s 3s/step - loss: 0.7991 - accuracy: 0.6151 - val_loss: 0.3431 - val_accuracy: 0.9872\n",
      "Epoch 24/75\n",
      "67/67 [==============================] - ETA: 0s - loss: 0.8043 - accuracy: 0.6208\n",
      "Epoch 00024: val_loss did not improve from 0.34308\n",
      "67/67 [==============================] - 206s 3s/step - loss: 0.8043 - accuracy: 0.6208 - val_loss: 0.4027 - val_accuracy: 1.0000\n",
      "Epoch 25/75\n",
      "67/67 [==============================] - ETA: 0s - loss: 0.7816 - accuracy: 0.6180\n",
      "Epoch 00025: val_loss did not improve from 0.34308\n",
      "67/67 [==============================] - 193s 3s/step - loss: 0.7816 - accuracy: 0.6180 - val_loss: 0.4525 - val_accuracy: 0.9872\n",
      "Epoch 26/75\n",
      "67/67 [==============================] - ETA: 0s - loss: 0.8124 - accuracy: 0.6147\n",
      "Epoch 00026: val_loss did not improve from 0.34308\n",
      "67/67 [==============================] - 198s 3s/step - loss: 0.8124 - accuracy: 0.6147 - val_loss: 0.4871 - val_accuracy: 1.0000\n",
      "Epoch 27/75\n",
      "67/67 [==============================] - ETA: 0s - loss: 0.7844 - accuracy: 0.6165\n",
      "Epoch 00027: val_loss did not improve from 0.34308\n",
      "67/67 [==============================] - 191s 3s/step - loss: 0.7844 - accuracy: 0.6165 - val_loss: 0.4243 - val_accuracy: 1.0000\n",
      "Epoch 28/75\n",
      "67/67 [==============================] - ETA: 0s - loss: 0.7637 - accuracy: 0.6170\n",
      "Epoch 00028: val_loss did not improve from 0.34308\n",
      "67/67 [==============================] - 192s 3s/step - loss: 0.7637 - accuracy: 0.6170 - val_loss: 0.4250 - val_accuracy: 1.0000\n",
      "Epoch 29/75\n",
      "67/67 [==============================] - ETA: 0s - loss: 0.7507 - accuracy: 0.6189\n",
      "Epoch 00029: val_loss improved from 0.34308 to 0.29806, saving model to parkinsons_detection.hdf5\n",
      "67/67 [==============================] - 194s 3s/step - loss: 0.7507 - accuracy: 0.6189 - val_loss: 0.2981 - val_accuracy: 1.0000\n",
      "Epoch 30/75\n",
      "67/67 [==============================] - ETA: 0s - loss: 0.7264 - accuracy: 0.6184\n",
      "Epoch 00030: val_loss did not improve from 0.29806\n",
      "67/67 [==============================] - 190s 3s/step - loss: 0.7264 - accuracy: 0.6184 - val_loss: 0.3043 - val_accuracy: 0.9915\n",
      "Epoch 31/75\n",
      "67/67 [==============================] - ETA: 0s - loss: 0.7093 - accuracy: 0.6307\n",
      "Epoch 00031: val_loss did not improve from 0.29806\n",
      "67/67 [==============================] - 190s 3s/step - loss: 0.7093 - accuracy: 0.6307 - val_loss: 0.3546 - val_accuracy: 0.9404\n",
      "Epoch 32/75\n",
      "67/67 [==============================] - ETA: 0s - loss: 0.7066 - accuracy: 0.6322\n",
      "Epoch 00032: val_loss improved from 0.29806 to 0.28919, saving model to parkinsons_detection.hdf5\n",
      "67/67 [==============================] - 191s 3s/step - loss: 0.7066 - accuracy: 0.6322 - val_loss: 0.2892 - val_accuracy: 0.9957\n",
      "Epoch 33/75\n",
      "67/67 [==============================] - ETA: 0s - loss: 0.6849 - accuracy: 0.6355\n",
      "Epoch 00033: val_loss improved from 0.28919 to 0.26404, saving model to parkinsons_detection.hdf5\n",
      "67/67 [==============================] - 190s 3s/step - loss: 0.6849 - accuracy: 0.6355 - val_loss: 0.2640 - val_accuracy: 0.9957\n",
      "Epoch 34/75\n",
      "67/67 [==============================] - ETA: 0s - loss: 0.6792 - accuracy: 0.6444\n",
      "Epoch 00034: val_loss improved from 0.26404 to 0.23337, saving model to parkinsons_detection.hdf5\n",
      "67/67 [==============================] - 189s 3s/step - loss: 0.6792 - accuracy: 0.6444 - val_loss: 0.2334 - val_accuracy: 0.9915\n",
      "Epoch 35/75\n",
      "67/67 [==============================] - ETA: 0s - loss: 0.6775 - accuracy: 0.6383\n",
      "Epoch 00035: val_loss did not improve from 0.23337\n",
      "67/67 [==============================] - 191s 3s/step - loss: 0.6775 - accuracy: 0.6383 - val_loss: 0.3292 - val_accuracy: 0.9830\n",
      "Epoch 36/75\n",
      "67/67 [==============================] - ETA: 0s - loss: 0.6786 - accuracy: 0.6232\n",
      "Epoch 00036: val_loss did not improve from 0.23337\n",
      "67/67 [==============================] - 189s 3s/step - loss: 0.6786 - accuracy: 0.6232 - val_loss: 0.2968 - val_accuracy: 0.9745\n",
      "Epoch 37/75\n",
      "67/67 [==============================] - ETA: 0s - loss: 0.6746 - accuracy: 0.6416\n",
      "Epoch 00037: val_loss did not improve from 0.23337\n",
      "67/67 [==============================] - 190s 3s/step - loss: 0.6746 - accuracy: 0.6416 - val_loss: 0.2652 - val_accuracy: 0.9532\n",
      "Epoch 38/75\n",
      "67/67 [==============================] - ETA: 0s - loss: 0.6499 - accuracy: 0.6426\n",
      "Epoch 00038: val_loss improved from 0.23337 to 0.21339, saving model to parkinsons_detection.hdf5\n",
      "67/67 [==============================] - 191s 3s/step - loss: 0.6499 - accuracy: 0.6426 - val_loss: 0.2134 - val_accuracy: 0.9447\n",
      "Epoch 39/75\n",
      "67/67 [==============================] - ETA: 0s - loss: 0.6207 - accuracy: 0.6809\n",
      "Epoch 00039: val_loss improved from 0.21339 to 0.19199, saving model to parkinsons_detection.hdf5\n",
      "67/67 [==============================] - 191s 3s/step - loss: 0.6207 - accuracy: 0.6809 - val_loss: 0.1920 - val_accuracy: 0.9957\n",
      "Epoch 40/75\n",
      "67/67 [==============================] - ETA: 0s - loss: 0.5814 - accuracy: 0.7243\n",
      "Epoch 00040: val_loss improved from 0.19199 to 0.09999, saving model to parkinsons_detection.hdf5\n",
      "67/67 [==============================] - 191s 3s/step - loss: 0.5814 - accuracy: 0.7243 - val_loss: 0.1000 - val_accuracy: 1.0000\n",
      "Epoch 41/75\n",
      "67/67 [==============================] - ETA: 0s - loss: 0.6347 - accuracy: 0.6719\n",
      "Epoch 00041: val_loss did not improve from 0.09999\n",
      "67/67 [==============================] - 189s 3s/step - loss: 0.6347 - accuracy: 0.6719 - val_loss: 0.1512 - val_accuracy: 0.9915\n",
      "Epoch 42/75\n",
      "67/67 [==============================] - ETA: 0s - loss: 0.5498 - accuracy: 0.7674\n",
      "Epoch 00042: val_loss did not improve from 0.09999\n",
      "67/67 [==============================] - 191s 3s/step - loss: 0.5498 - accuracy: 0.7674 - val_loss: 0.1166 - val_accuracy: 0.9957\n",
      "Epoch 43/75\n",
      "67/67 [==============================] - ETA: 0s - loss: 0.5576 - accuracy: 0.7395\n",
      "Epoch 00043: val_loss improved from 0.09999 to 0.08590, saving model to parkinsons_detection.hdf5\n",
      "67/67 [==============================] - 192s 3s/step - loss: 0.5576 - accuracy: 0.7395 - val_loss: 0.0859 - val_accuracy: 1.0000\n",
      "Epoch 44/75\n",
      "67/67 [==============================] - ETA: 0s - loss: 0.5299 - accuracy: 0.7787\n",
      "Epoch 00044: val_loss improved from 0.08590 to 0.08426, saving model to parkinsons_detection.hdf5\n",
      "67/67 [==============================] - 191s 3s/step - loss: 0.5299 - accuracy: 0.7787 - val_loss: 0.0843 - val_accuracy: 1.0000\n",
      "Epoch 45/75\n",
      "67/67 [==============================] - ETA: 0s - loss: 0.4869 - accuracy: 0.7991\n",
      "Epoch 00045: val_loss improved from 0.08426 to 0.07769, saving model to parkinsons_detection.hdf5\n",
      "67/67 [==============================] - 186s 3s/step - loss: 0.4869 - accuracy: 0.7991 - val_loss: 0.0777 - val_accuracy: 1.0000\n",
      "Epoch 46/75\n",
      "67/67 [==============================] - ETA: 0s - loss: 0.4684 - accuracy: 0.8028\n",
      "Epoch 00046: val_loss did not improve from 0.07769\n",
      "67/67 [==============================] - 200s 3s/step - loss: 0.4684 - accuracy: 0.8028 - val_loss: 0.0850 - val_accuracy: 0.9957\n",
      "Epoch 47/75\n",
      "67/67 [==============================] - ETA: 0s - loss: 0.4219 - accuracy: 0.8307\n",
      "Epoch 00047: val_loss improved from 0.07769 to 0.07183, saving model to parkinsons_detection.hdf5\n",
      "67/67 [==============================] - 206s 3s/step - loss: 0.4219 - accuracy: 0.8307 - val_loss: 0.0718 - val_accuracy: 1.0000\n",
      "Epoch 48/75\n",
      "67/67 [==============================] - ETA: 0s - loss: 0.4162 - accuracy: 0.8454\n",
      "Epoch 00048: val_loss did not improve from 0.07183\n",
      "67/67 [==============================] - 202s 3s/step - loss: 0.4162 - accuracy: 0.8454 - val_loss: 0.0734 - val_accuracy: 1.0000\n",
      "Epoch 49/75\n",
      "67/67 [==============================] - ETA: 0s - loss: 0.4023 - accuracy: 0.8463\n",
      "Epoch 00049: val_loss did not improve from 0.07183\n",
      "67/67 [==============================] - 190s 3s/step - loss: 0.4023 - accuracy: 0.8463 - val_loss: 0.0870 - val_accuracy: 0.9872\n",
      "Epoch 50/75\n",
      "67/67 [==============================] - ETA: 0s - loss: 0.3943 - accuracy: 0.8539\n",
      "Epoch 00050: val_loss improved from 0.07183 to 0.06281, saving model to parkinsons_detection.hdf5\n",
      "67/67 [==============================] - 202s 3s/step - loss: 0.3943 - accuracy: 0.8539 - val_loss: 0.0628 - val_accuracy: 1.0000\n",
      "Epoch 51/75\n",
      "67/67 [==============================] - ETA: 0s - loss: 0.3664 - accuracy: 0.8686\n",
      "Epoch 00051: val_loss did not improve from 0.06281\n",
      "67/67 [==============================] - 191s 3s/step - loss: 0.3664 - accuracy: 0.8686 - val_loss: 0.0644 - val_accuracy: 0.9957\n",
      "Epoch 52/75\n",
      "67/67 [==============================] - ETA: 0s - loss: 0.3515 - accuracy: 0.8733\n",
      "Epoch 00052: val_loss improved from 0.06281 to 0.05911, saving model to parkinsons_detection.hdf5\n",
      "67/67 [==============================] - 186s 3s/step - loss: 0.3515 - accuracy: 0.8733 - val_loss: 0.0591 - val_accuracy: 1.0000\n",
      "Epoch 53/75\n",
      "67/67 [==============================] - ETA: 0s - loss: 0.3330 - accuracy: 0.8809\n",
      "Epoch 00053: val_loss did not improve from 0.05911\n",
      "67/67 [==============================] - 187s 3s/step - loss: 0.3330 - accuracy: 0.8809 - val_loss: 0.0698 - val_accuracy: 1.0000\n",
      "Epoch 54/75\n",
      "67/67 [==============================] - ETA: 0s - loss: 0.3308 - accuracy: 0.8728\n",
      "Epoch 00054: val_loss improved from 0.05911 to 0.05520, saving model to parkinsons_detection.hdf5\n",
      "67/67 [==============================] - 193s 3s/step - loss: 0.3308 - accuracy: 0.8728 - val_loss: 0.0552 - val_accuracy: 1.0000\n",
      "Epoch 55/75\n",
      "67/67 [==============================] - ETA: 0s - loss: 0.3157 - accuracy: 0.8842\n",
      "Epoch 00055: val_loss improved from 0.05520 to 0.05488, saving model to parkinsons_detection.hdf5\n",
      "67/67 [==============================] - 190s 3s/step - loss: 0.3157 - accuracy: 0.8842 - val_loss: 0.0549 - val_accuracy: 1.0000\n",
      "Epoch 56/75\n",
      "67/67 [==============================] - ETA: 0s - loss: 0.3039 - accuracy: 0.8946\n",
      "Epoch 00056: val_loss did not improve from 0.05488\n",
      "67/67 [==============================] - 194s 3s/step - loss: 0.3039 - accuracy: 0.8946 - val_loss: 0.0612 - val_accuracy: 0.9957\n",
      "Epoch 57/75\n",
      "67/67 [==============================] - ETA: 0s - loss: 0.3040 - accuracy: 0.8884\n",
      "Epoch 00057: val_loss improved from 0.05488 to 0.05371, saving model to parkinsons_detection.hdf5\n",
      "67/67 [==============================] - 192s 3s/step - loss: 0.3040 - accuracy: 0.8884 - val_loss: 0.0537 - val_accuracy: 1.0000\n",
      "Epoch 58/75\n",
      "67/67 [==============================] - ETA: 0s - loss: 0.2999 - accuracy: 0.8898\n",
      "Epoch 00058: val_loss did not improve from 0.05371\n",
      "67/67 [==============================] - 192s 3s/step - loss: 0.2999 - accuracy: 0.8898 - val_loss: 0.0592 - val_accuracy: 0.9957\n",
      "Epoch 59/75\n",
      "67/67 [==============================] - ETA: 0s - loss: 0.2854 - accuracy: 0.9040\n",
      "Epoch 00059: val_loss did not improve from 0.05371\n",
      "67/67 [==============================] - 198s 3s/step - loss: 0.2854 - accuracy: 0.9040 - val_loss: 0.0549 - val_accuracy: 1.0000\n",
      "Epoch 60/75\n",
      "67/67 [==============================] - ETA: 0s - loss: 0.2795 - accuracy: 0.8983\n",
      "Epoch 00060: val_loss did not improve from 0.05371\n",
      "67/67 [==============================] - 198s 3s/step - loss: 0.2795 - accuracy: 0.8983 - val_loss: 0.0586 - val_accuracy: 0.9957\n",
      "Epoch 61/75\n",
      "67/67 [==============================] - ETA: 0s - loss: 0.2702 - accuracy: 0.9064\n",
      "Epoch 00061: val_loss did not improve from 0.05371\n",
      "67/67 [==============================] - 190s 3s/step - loss: 0.2702 - accuracy: 0.9064 - val_loss: 0.0563 - val_accuracy: 0.9957\n",
      "Epoch 62/75\n",
      "67/67 [==============================] - ETA: 0s - loss: 0.2648 - accuracy: 0.9116\n",
      "Epoch 00062: val_loss did not improve from 0.05371\n",
      "67/67 [==============================] - 191s 3s/step - loss: 0.2648 - accuracy: 0.9116 - val_loss: 0.0573 - val_accuracy: 0.9957\n",
      "Epoch 63/75\n",
      "67/67 [==============================] - ETA: 0s - loss: 0.2631 - accuracy: 0.9135\n",
      "Epoch 00063: val_loss did not improve from 0.05371\n",
      "67/67 [==============================] - 191s 3s/step - loss: 0.2631 - accuracy: 0.9135 - val_loss: 0.0544 - val_accuracy: 0.9957\n",
      "Epoch 64/75\n",
      "67/67 [==============================] - ETA: 0s - loss: 0.2629 - accuracy: 0.9078\n",
      "Epoch 00064: val_loss improved from 0.05371 to 0.05330, saving model to parkinsons_detection.hdf5\n",
      "67/67 [==============================] - 193s 3s/step - loss: 0.2629 - accuracy: 0.9078 - val_loss: 0.0533 - val_accuracy: 0.9957\n",
      "Epoch 65/75\n",
      "67/67 [==============================] - ETA: 0s - loss: 0.2357 - accuracy: 0.9168\n",
      "Epoch 00065: val_loss improved from 0.05330 to 0.05235, saving model to parkinsons_detection.hdf5\n",
      "67/67 [==============================] - 190s 3s/step - loss: 0.2357 - accuracy: 0.9168 - val_loss: 0.0523 - val_accuracy: 0.9957\n",
      "Epoch 66/75\n",
      "67/67 [==============================] - ETA: 0s - loss: 0.2413 - accuracy: 0.9177\n",
      "Epoch 00066: val_loss did not improve from 0.05235\n",
      "67/67 [==============================] - 189s 3s/step - loss: 0.2413 - accuracy: 0.9177 - val_loss: 0.0552 - val_accuracy: 0.9957\n",
      "Epoch 67/75\n",
      "67/67 [==============================] - ETA: 0s - loss: 0.2226 - accuracy: 0.9239\n",
      "Epoch 00067: val_loss did not improve from 0.05235\n",
      "67/67 [==============================] - 199s 3s/step - loss: 0.2226 - accuracy: 0.9239 - val_loss: 0.0551 - val_accuracy: 0.9957\n",
      "Epoch 68/75\n",
      "67/67 [==============================] - ETA: 0s - loss: 0.2220 - accuracy: 0.9281\n",
      "Epoch 00068: val_loss did not improve from 0.05235\n",
      "67/67 [==============================] - 195s 3s/step - loss: 0.2220 - accuracy: 0.9281 - val_loss: 0.0609 - val_accuracy: 0.9957\n",
      "Epoch 69/75\n",
      "67/67 [==============================] - ETA: 0s - loss: 0.2462 - accuracy: 0.9031\n",
      "Epoch 00069: val_loss did not improve from 0.05235\n",
      "67/67 [==============================] - 197s 3s/step - loss: 0.2462 - accuracy: 0.9031 - val_loss: 0.0600 - val_accuracy: 0.9915\n",
      "Epoch 70/75\n",
      "67/67 [==============================] - ETA: 0s - loss: 0.2252 - accuracy: 0.9206\n",
      "Epoch 00070: val_loss did not improve from 0.05235\n",
      "67/67 [==============================] - 195s 3s/step - loss: 0.2252 - accuracy: 0.9206 - val_loss: 0.0643 - val_accuracy: 0.9957\n",
      "Epoch 71/75\n",
      "67/67 [==============================] - ETA: 0s - loss: 0.2035 - accuracy: 0.9348\n",
      "Epoch 00071: val_loss did not improve from 0.05235\n",
      "67/67 [==============================] - 190s 3s/step - loss: 0.2035 - accuracy: 0.9348 - val_loss: 0.0536 - val_accuracy: 0.9957\n",
      "Epoch 72/75\n",
      "67/67 [==============================] - ETA: 0s - loss: 0.2119 - accuracy: 0.9253\n",
      "Epoch 00072: val_loss did not improve from 0.05235\n",
      "67/67 [==============================] - 189s 3s/step - loss: 0.2119 - accuracy: 0.9253 - val_loss: 0.0573 - val_accuracy: 0.9957\n",
      "Epoch 73/75\n",
      "67/67 [==============================] - ETA: 0s - loss: 0.2079 - accuracy: 0.9291\n",
      "Epoch 00073: val_loss did not improve from 0.05235\n",
      "67/67 [==============================] - 187s 3s/step - loss: 0.2079 - accuracy: 0.9291 - val_loss: 0.0615 - val_accuracy: 0.9957\n",
      "Epoch 74/75\n",
      "67/67 [==============================] - ETA: 0s - loss: 0.2198 - accuracy: 0.9243\n",
      "Epoch 00074: val_loss did not improve from 0.05235\n",
      "67/67 [==============================] - 189s 3s/step - loss: 0.2198 - accuracy: 0.9243 - val_loss: 0.0691 - val_accuracy: 0.9957\n",
      "Epoch 75/75\n",
      "67/67 [==============================] - ETA: 0s - loss: 0.2163 - accuracy: 0.9258\n",
      "Epoch 00075: val_loss did not improve from 0.05235\n",
      "67/67 [==============================] - 191s 3s/step - loss: 0.2163 - accuracy: 0.9258 - val_loss: 0.0576 - val_accuracy: 0.9957\n"
     ]
    }
   ],
   "source": [
    "hist = model.fit(x_train,y_train,\n",
    "                    shuffle = True,\n",
    "                    batch_size=32,\n",
    "                    epochs = 75,\n",
    "                    validation_split = 0.10,callbacks=callbacks_list)"
   ]
  },
  {
   "cell_type": "code",
   "execution_count": 20,
   "id": "f8193d81",
   "metadata": {},
   "outputs": [
    {
     "data": {
      "image/png": "[encoded data removed]",
      "text/plain": [
       "<Figure size 1500x500 with 2 Axes>"
      ]
     },
     "metadata": {},
     "output_type": "display_data"
    }
   ],
   "source": [
    "from matplotlib import pyplot as plt\n",
    "plt.figure(1, figsize = (15, 5))\n",
    "plt.subplot(1,2,1)\n",
    "plt.xlabel(\"Epochs\")\n",
    "plt.ylabel(\"Loss\")\n",
    "plt.plot( hist.history[\"loss\"], label = \"Training Loss\")\n",
    "plt.plot( hist.history[\"val_loss\"], label = \"Validation Loss\")\n",
    "plt.grid(True)\n",
    "plt.legend()\n",
    "plt.savefig(\"Figure 2.jpg\")\n",
    "\n",
    "plt.subplot(1,2,2)\n",
    "plt.xlabel(\"Epochs\")\n",
    "plt.ylabel(\"Accuracy\")\n",
    "plt.plot( hist.history[\"accuracy\"], label = \"Training Accuracy\")\n",
    "plt.plot( hist.history[\"val_accuracy\"], label = \"Validation Accuracy\")\n",
    "plt.grid(True)\n",
    "plt.legend()\n",
    "plt.savefig(\"figure 3.jpg\")"
   ]
  },
  {
   "cell_type": "code",
   "execution_count": 24,
   "id": "c5675db2",
   "metadata": {},
   "outputs": [
    {
     "name": "stdout",
     "output_type": "stream",
     "text": [
      "['Normal', 'Osteoarthritis']\n",
      "(641, 512, 512, 3) (641, 2)\n"
     ]
    }
   ],
   "source": [
    "#TESTING THE cnn MODEL'S PERFORMANCE\n",
    "test_images = \"C:\\\\Users\\\\nisha\\\\Desktop\\\\[KNEE OSTEOARTHRITIS]\\\\data 2\\\\Osteoarthritis Dataset\\\\valid\"\n",
    "\n",
    "test_image_data = []\n",
    "test_labels = []\n",
    "\n",
    "test_folders = os.listdir(test_images)\n",
    "print(test_folders)\n",
    "\n",
    "label_dict = {\n",
    "    'Normal':0,\n",
    "    'Osteoarthritis':1\n",
    "}\n",
    "\n",
    "from keras.preprocessing import image\n",
    "\n",
    "for ix in test_folders:\n",
    "    path = os.path.join(test_images,ix)\n",
    "    for im in os.listdir(path):\n",
    "        img = image.load_img(os.path.join(path,im),target_size = ((512,512)))\n",
    "        img_array = image.img_to_array(img)\n",
    "        test_image_data.append(img_array)\n",
    "        test_labels.append(label_dict[ix])\n",
    "        \n",
    "\n",
    "combined = list(zip(test_image_data,test_labels))\n",
    "test_image_data[:],test_labels[:] = zip(*combined)\n",
    "\n",
    "x_test = np.array(test_image_data)\n",
    "y_test = np.array(test_labels)\n",
    "\n",
    "from keras.utils import np_utils\n",
    "\n",
    "y_test = np_utils.to_categorical(y_test)\n",
    "print(x_test.shape,y_test.shape)"
   ]
  },
  {
   "cell_type": "code",
   "execution_count": 25,
   "id": "c1b13ba6",
   "metadata": {},
   "outputs": [
    {
     "name": "stdout",
     "output_type": "stream",
     "text": [
      "21/21 [==============================] - 10s 455ms/step - loss: 0.3966 - accuracy: 0.8768\n"
     ]
    },
    {
     "data": {
      "text/plain": [
       "[0.3965607285499573, 0.8767550587654114]"
      ]
     },
     "execution_count": 25,
     "metadata": {},
     "output_type": "execute_result"
    }
   ],
   "source": [
    "model.evaluate(x_test,y_test)"
   ]
  },
  {
   "cell_type": "code",
   "execution_count": 26,
   "id": "bccf4dfe",
   "metadata": {},
   "outputs": [],
   "source": [
    "from sklearn.metrics import classification_report,confusion_matrix"
   ]
  },
  {
   "cell_type": "code",
   "execution_count": 27,
   "id": "7de8ceff",
   "metadata": {},
   "outputs": [],
   "source": [
    "predictions = model.predict(x_test, batch_size = 32)\n",
    "pred = np.argmax(predictions, axis=1)"
   ]
  },
  {
   "cell_type": "code",
   "execution_count": 28,
   "id": "31d75ed7",
   "metadata": {},
   "outputs": [
    {
     "name": "stdout",
     "output_type": "stream",
     "text": [
      "              precision    recall  f1-score   support\n",
      "\n",
      "           0       0.94      0.67      0.78       210\n",
      "           1       0.86      0.98      0.91       431\n",
      "\n",
      "    accuracy                           0.88       641\n",
      "   macro avg       0.90      0.82      0.85       641\n",
      "weighted avg       0.88      0.88      0.87       641\n",
      "\n"
     ]
    }
   ],
   "source": [
    "print(classification_report(test_labels, pred))"
   ]
  },
  {
   "cell_type": "code",
   "execution_count": 29,
   "id": "16397bd4",
   "metadata": {},
   "outputs": [
    {
     "name": "stdout",
     "output_type": "stream",
     "text": [
      "[[140  70]\n",
      " [  9 422]]\n"
     ]
    }
   ],
   "source": [
    "print(confusion_matrix(test_labels, pred))"
   ]
  },
  {
   "cell_type": "code",
   "execution_count": 30,
   "id": "6feb5e89",
   "metadata": {},
   "outputs": [
    {
     "name": "stdout",
     "output_type": "stream",
     "text": [
      "Normalized Confusion Matrix: \n",
      "[[0.67 0.33]\n",
      " [0.02 0.98]]\n"
     ]
    },
    {
     "data": {
      "image/png": "[encoded data removed]",
      "text/plain": [
       "<Figure size 640x480 with 2 Axes>"
      ]
     },
     "metadata": {},
     "output_type": "display_data"
    }
   ],
   "source": [
    "# Normalized Confusion Matrix\n",
    "import numpy as np\n",
    "import seaborn as sns\n",
    "print(\"Normalized Confusion Matrix: \")\n",
    "cm_normalized = np.round(confusion_matrix(test_labels, pred)/np.sum(confusion_matrix(test_labels, pred), axis = 1).reshape(-1, 1),2)\n",
    "print(cm_normalized)\n",
    "sns.heatmap(cm_normalized, annot = True, cmap = \"BuPu\")\n",
    "plt.xlabel(\"Predicted\")\n",
    "plt.ylabel(\"Actual\")\n",
    "plt.show()"
   ]
  },
  {
   "cell_type": "code",
   "execution_count": 31,
   "id": "9d28e795",
   "metadata": {},
   "outputs": [
    {
     "name": "stdout",
     "output_type": "stream",
     "text": [
      "Sensitivity :  0.6666666666666666\n"
     ]
    }
   ],
   "source": [
    "sensitivity1 = confusion_matrix(test_labels, pred)[0,0]/(confusion_matrix(test_labels, pred)[0,0]+confusion_matrix(test_labels, pred)[0,1])\n",
    "print('Sensitivity : ', sensitivity1 )"
   ]
  },
  {
   "cell_type": "code",
   "execution_count": 32,
   "id": "555a9691",
   "metadata": {},
   "outputs": [
    {
     "name": "stdout",
     "output_type": "stream",
     "text": [
      "Specificity :  0.9791183294663574\n"
     ]
    }
   ],
   "source": [
    "specificity1 = confusion_matrix(test_labels, pred)[1,1]/(confusion_matrix(test_labels, pred)[1,0]+confusion_matrix(test_labels, pred)[1,1])\n",
    "print('Specificity : ', specificity1)"
   ]
  },
  {
   "cell_type": "code",
   "execution_count": 34,
   "id": "48348fcd",
   "metadata": {},
   "outputs": [
    {
     "name": "stdout",
     "output_type": "stream",
     "text": [
      "WARNING:tensorflow:From C:\\Users\\nisha\\AppData\\Local\\Temp\\ipykernel_11828\\3376462102.py:2: Sequential.predict_proba (from tensorflow.python.keras.engine.sequential) is deprecated and will be removed after 2021-01-01.\n",
      "Instructions for updating:\n",
      "Please use `model.predict()` instead.\n"
     ]
    }
   ],
   "source": [
    "# predict probabilities\n",
    "pred_prob1 = model.predict_proba(x_test)"
   ]
  },
  {
   "cell_type": "code",
   "execution_count": 1,
   "id": "6f55ca06",
   "metadata": {},
   "outputs": [
    {
     "ename": "NameError",
     "evalue": "name 'model' is not defined",
     "output_type": "error",
     "traceback": [
      "\u001b[1;31m---------------------------------------------------------------------------\u001b[0m",
      "\u001b[1;31mNameError\u001b[0m                                 Traceback (most recent call last)",
      "Input \u001b[1;32mIn [1]\u001b[0m, in \u001b[0;36m<cell line: 3>\u001b[1;34m()\u001b[0m\n\u001b[0;32m      1\u001b[0m \u001b[38;5;28;01mfrom\u001b[39;00m \u001b[38;5;21;01msklearn\u001b[39;00m\u001b[38;5;21;01m.\u001b[39;00m\u001b[38;5;21;01mmetrics\u001b[39;00m \u001b[38;5;28;01mimport\u001b[39;00m roc_curve, auc\n\u001b[1;32m----> 3\u001b[0m history \u001b[38;5;241m=\u001b[39m \u001b[43mmodel\u001b[49m\u001b[38;5;241m.\u001b[39mfit(x_train, y_train, validation_data\u001b[38;5;241m=\u001b[39m(\n\u001b[0;32m      4\u001b[0m         x_test, y_test), epochs\u001b[38;5;241m=\u001b[39m \u001b[38;5;241m25\u001b[39m, batch_size\u001b[38;5;241m=\u001b[39m \u001b[38;5;241m32\u001b[39m, verbose\u001b[38;5;241m=\u001b[39m\u001b[38;5;241m1\u001b[39m)\n\u001b[0;32m      6\u001b[0m y_pred \u001b[38;5;241m=\u001b[39m model\u001b[38;5;241m.\u001b[39mpredict(x_test)\u001b[38;5;241m.\u001b[39mravel()\n\u001b[0;32m      8\u001b[0m nn_fpr_keras, nn_tpr_keras, nn_thresholds_keras \u001b[38;5;241m=\u001b[39m roc_curve(y_test, y_pred)\n",
      "\u001b[1;31mNameError\u001b[0m: name 'model' is not defined"
     ]
    }
   ],
   "source": [
    "from sklearn.metrics import roc_curve, auc\n",
    "\n",
    "history = model.fit(x_train, y_train, validation_data=(\n",
    "        x_test, y_test), epochs= 25, batch_size= 32, verbose=1)\n",
    "\n",
    "y_pred = model.predict(x_test).ravel()\n",
    "\n",
    "nn_fpr_keras, nn_tpr_keras, nn_thresholds_keras = roc_curve(y_test, y_pred)\n",
    "auc_keras = auc(nn_fpr_keras, nn_tpr_keras)\n",
    "print(auc_score)\n",
    "plt.plot(nn_fpr_keras, nn_tpr_keras, marker='.', label='Neural Network (auc = %0.3f)' % auc_keras)\n"
   ]
  },
  {
   "cell_type": "code",
   "execution_count": null,
   "id": "4eb9f3a3",
   "metadata": {},
   "outputs": [],
   "source": []
  }
 ],
 "metadata": {
  "kernelspec": {
   "display_name": "Python 3 (ipykernel)",
   "language": "python",
   "name": "python3"
  },
  "language_info": {
   "codemirror_mode": {
    "name": "ipython",
    "version": 3
   },
   "file_extension": ".py",
   "mimetype": "text/x-python",
   "name": "python",
   "nbconvert_exporter": "python",
   "pygments_lexer": "ipython3",
   "version": "3.8.13"
  }
 },
 "nbformat": 4,
 "nbformat_minor": 5
}
